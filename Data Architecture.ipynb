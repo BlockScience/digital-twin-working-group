{
 "cells": [
  {
   "cell_type": "code",
   "execution_count": 5,
   "metadata": {},
   "outputs": [],
   "source": [
    "class DataPipeline:\n",
    "    def __init__(self, name, function):\n",
    "        self.name = name\n",
    "        self.function = function\n",
    "\n",
    "class ExtractPipeline(DataPipeline):\n",
    "    def __init__(self, name, function, credentials):\n",
    "        DataPipeline.__init__(self, name, function)\n",
    "        self.type = \"Extract\"\n",
    "        self.credentials = credentials\n",
    "        \n",
    "    def extract(self):\n",
    "        payload = self.function(credentials = self.credentials)\n",
    "        return payload"
   ]
  },
  {
   "cell_type": "code",
   "execution_count": 6,
   "metadata": {},
   "outputs": [],
   "source": [
    "def sql_function1(credentials=None):\n",
    "    values = [1, 2, 3, 4]\n",
    "    payload = {\"values\": values}\n",
    "    return payload\n",
    "    \n",
    "sql_pipeline1 = ExtractPipeline(\"SQL1\", sql_function1, {})\n",
    "    \n",
    "def sql_function2(credentials=None):\n",
    "    values = [5, 5, 5, 5]\n",
    "    payload = {\"values\": values}\n",
    "    return payload\n",
    "\n",
    "sql_pipeline2 = ExtractPipeline(\"SQL2\", sql_function2, {})"
   ]
  },
  {
   "cell_type": "code",
   "execution_count": 8,
   "metadata": {},
   "outputs": [
    {
     "name": "stdout",
     "output_type": "stream",
     "text": [
      "{'values': [1, 2, 3, 4]}\n",
      "{'values': [5, 5, 5, 5]}\n"
     ]
    }
   ],
   "source": [
    "print(sql_pipeline1.extract())\n",
    "print(sql_pipeline2.extract())"
   ]
  },
  {
   "cell_type": "code",
   "execution_count": 1,
   "metadata": {},
   "outputs": [],
   "source": [
    "#Internal cananoical form"
   ]
  },
  {
   "cell_type": "code",
   "execution_count": 9,
   "metadata": {},
   "outputs": [],
   "source": [
    "class ProcessPipeline(DataPipeline):\n",
    "    def __init__(self, name, function):\n",
    "        DataPipeline.__init__(self, name, function)\n",
    "        self.type = \"Process\"\n",
    "        \n",
    "    def process(self, input_payload):\n",
    "        payload = self.function(input_payload)\n",
    "        return payload"
   ]
  },
  {
   "cell_type": "code",
   "execution_count": 14,
   "metadata": {},
   "outputs": [],
   "source": [
    "def double_function(input_payload):\n",
    "    assert list(input_payload.keys()) == [\"values\"], \"Incorrect input payload\"\n",
    "    assert type(input_payload[\"values\"]) == list, \"Incorrect type for values\"\n",
    "    values = [x*2 for x in input_payload[\"values\"]]\n",
    "    payload = {\"values\": values}\n",
    "    return payload"
   ]
  },
  {
   "cell_type": "code",
   "execution_count": 15,
   "metadata": {},
   "outputs": [],
   "source": [
    "double_pipeline = ProcessPipeline(\"Double\", double_function)"
   ]
  },
  {
   "cell_type": "code",
   "execution_count": 16,
   "metadata": {},
   "outputs": [
    {
     "name": "stdout",
     "output_type": "stream",
     "text": [
      "{'values': [2, 4, 6, 8]}\n"
     ]
    }
   ],
   "source": [
    "input_payload = sql_pipeline1.extract()\n",
    "print(double_pipeline.process(input_payload))"
   ]
  }
 ],
 "metadata": {
  "kernelspec": {
   "display_name": "Python 3",
   "language": "python",
   "name": "python3"
  },
  "language_info": {
   "codemirror_mode": {
    "name": "ipython",
    "version": 3
   },
   "file_extension": ".py",
   "mimetype": "text/x-python",
   "name": "python",
   "nbconvert_exporter": "python",
   "pygments_lexer": "ipython3",
   "version": "3.8.3"
  }
 },
 "nbformat": 4,
 "nbformat_minor": 5
}
