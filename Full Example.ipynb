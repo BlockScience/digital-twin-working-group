{
 "cells": [
  {
   "cell_type": "markdown",
   "id": "cc452264",
   "metadata": {},
   "source": [
    "## Types\n",
    "\n",
    "Under types, there is definitions for all types that are to be used in the system.\n",
    "\n",
    "## Data\n",
    "\n",
    "While there is data processing functions, these are supposed to be light data functions and any hardcode data processing should be through a data infrastructure."
   ]
  },
  {
   "cell_type": "code",
   "execution_count": 1,
   "id": "45d0284b",
   "metadata": {},
   "outputs": [],
   "source": [
    "from model2.data import pull_trades"
   ]
  },
  {
   "cell_type": "code",
   "execution_count": null,
   "id": "301a99f4",
   "metadata": {},
   "outputs": [],
   "source": []
  }
 ],
 "metadata": {
  "kernelspec": {
   "display_name": "Python 3",
   "language": "python",
   "name": "python3"
  },
  "language_info": {
   "codemirror_mode": {
    "name": "ipython",
    "version": 3
   },
   "file_extension": ".py",
   "mimetype": "text/x-python",
   "name": "python",
   "nbconvert_exporter": "python",
   "pygments_lexer": "ipython3",
   "version": "3.9.12"
  }
 },
 "nbformat": 4,
 "nbformat_minor": 5
}
