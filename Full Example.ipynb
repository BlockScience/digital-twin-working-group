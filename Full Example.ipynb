{
 "cells": [
  {
   "cell_type": "markdown",
   "id": "0bb93373",
   "metadata": {},
   "source": [
    "# Executive Summary\n",
    "\n",
    "This full example is meant to implement how the digital twin abstract class is supposed to be useful and work. It will show what needs to be done on the model end as well as what gets used on the digital twin abstract class end.\n",
    "\n",
    "The directory for this model is \"model2\"\n",
    "\n",
    "Everything here would be what should be going into a dt.py file that would create the digital twin framework."
   ]
  },
  {
   "cell_type": "markdown",
   "id": "b8a2d981",
   "metadata": {},
   "source": [
    "# 1. Data Pipelines\n",
    "\n",
    "# Model Specific\n",
    "\n",
    "## Types\n",
    "\n",
    "Under types, there is definitions for all types that are to be used in the system. Copious typing should be done, and for all data types with both raw/processed there should be a type.\n",
    "\n",
    "## Data\n",
    "\n",
    "While there is data processing functions, these are supposed to be light data functions and any hardcode data processing should be through a data infrastructure. The functions will be of the following categories, where N is a variable number of data pulls, and brackets will show how many of any given type there should be.\n",
    "\n",
    "1. [1+] Data Connection Method: A method for how to connect to the database. Input: None Output: Connection\n",
    "2. [N] Raw Data Pulls: Pulls that directly hit the data infrastructure held database tables. Input: Connection Output: Raw Data Type\n",
    "3. [N] Data Processing: Any light data processing such as doing pivots since holding a pivot table would be space ineffecient on the SQL side. Input: Raw Data Type Output: Processed Data Type\n",
    "4. [1] Backtest Data Pull: A pull that combines all raw pulls and data processing pulls, plus connects to the database and returns a Backtest Data Type. Input: None Output: Backtest Data Type\n",
    "5. [1] Input Data Computation: A processing function that takes backtest data and then returns starting state, the historical data, the input data (what goes into the backtest) and the output data (what is being used to validate the backtest). Input: Backtest Data Type Output: Input Data Type\n",
    "6. [1] Format Inputs: One function which takes the input data and formats the input into data classes for use within cadCAD.\n",
    "\n",
    "# Digital Twin Specific\n",
    "\n",
    "1. A DataPipeline class should be made which fills out pull_historical_data, compute_input_data, format_input_data corresponding to the functions defined above.\n",
    "2. A function of load_data_initial should be made in the DT class which specifies how to save down pulled data. This can be csv, pickle, etc. \n",
    "3. A function of load_data_prior should be made in the DT class which specifies how to pull back old data used."
   ]
  },
  {
   "cell_type": "code",
   "execution_count": 1,
   "id": "12002370",
   "metadata": {},
   "outputs": [],
   "source": [
    "import digital_twin\n",
    "from model2.data import pull_backtest_data, create_input_data, format_inputs\n",
    "from model2.types import BacktestData\n",
    "\n",
    "class ArbitrageDataPipeline(digital_twin.DataPipeline):\n",
    "    \n",
    "    def pull_historical_data(self):\n",
    "        return pull_backtest_data()\n",
    "    \n",
    "    def compute_input_data(self, data):\n",
    "        return create_input_data(data)\n",
    "    \n",
    "    def format_input_data(self, data):\n",
    "        return format_inputs(data)\n",
    "\n",
    "class ArbitrageDigitalTwin(digital_twin.DigitalTwin):\n",
    "    \n",
    "    def load_data_initial(self):\n",
    "        self.historical_data = self.data_pipeline.pull_historical_data()\n",
    "        \n",
    "        self.historical_data.pure_returns.to_csv(\"pure_returns.csv\")\n",
    "        self.historical_data.prices_data.to_csv(\"prices_data.csv\")\n",
    "        self.historical_data.trades_data.to_csv(\"trades_data.csv\")\n",
    "    \n",
    "    def load_data_prior(self):\n",
    "        pure_returns = pd.read_csv(\"pure_returns.csv\", index_col = 0)\n",
    "        prices_data = pd.read_csv(\"prices_data.csv\", index_col = 0)\n",
    "        trades_data = pd.read_csv(\"trades_data.csv\", index_col = 0)\n",
    "        \n",
    "        self.historical_data = BacktestData(pure_returns = pure_returns_data, \n",
    "                        prices_data = prices_data,\n",
    "                        trades_data = trades_data)"
   ]
  },
  {
   "cell_type": "code",
   "execution_count": 2,
   "id": "1b4a546f",
   "metadata": {},
   "outputs": [],
   "source": [
    "TestDataPipeline = ArbitrageDataPipeline()\n",
    "arb_dt = ArbitrageDigitalTwin(name = \"Test\",\n",
    "                    data_pipeline = TestDataPipeline)\n",
    "arb_dt.load_data_initial()\n",
    "arb_dt.compute_input_data()"
   ]
  },
  {
   "cell_type": "markdown",
   "id": "cc842ace",
   "metadata": {},
   "source": [
    "# 2. Backtest Model\n",
    "\n",
    "# Model Specific\n",
    "\n",
    "## Partial State Update Blocks\n",
    "\n",
    "- The file of psub.py holds all the partial state update blocks. There is distinction between the backtesting based blocks and the extrapolation based blocks.\n",
    "\n",
    "## Run \n",
    "\n",
    "This file has a few functionalities to be built.\n",
    "\n",
    "1. load_config_backtest: This function is meant to load up the configuration for backtesting.\n",
    "2. run: A function for running the model\n",
    "3. post_processing: A function for post processing after the run\n",
    "\n",
    "# Digital Twin Specific\n",
    "\n",
    "1. A BacktestModel class needs to be made from digital twin model\n",
    "2. The load config function should map the configuration loading for backtesting\n",
    "3. The run model function fills in how the model will run\n",
    "4. Post processing likewise is mapped through there\n",
    "\n",
    "We add it into the full workflow below as an example."
   ]
  },
  {
   "cell_type": "code",
   "execution_count": 3,
   "id": "3b488ad4",
   "metadata": {},
   "outputs": [],
   "source": [
    "from model2.run import load_config_backtest, run, post_processing"
   ]
  },
  {
   "cell_type": "code",
   "execution_count": 4,
   "id": "505f3042",
   "metadata": {},
   "outputs": [],
   "source": [
    "class BacktestModel(digital_twin.Model):\n",
    "    def load_config(self, monte_carlo_runs, timesteps,\n",
    "                    params, initial_state):\n",
    "        exp = load_config_backtest(monte_carlo_runs = monte_carlo_runs,\n",
    "            timesteps = timesteps,\n",
    "            params = params,\n",
    "            initial_state = initial_state)\n",
    "        return exp\n",
    "    \n",
    "    def run_model(self, exp):\n",
    "        raw = run(exp)\n",
    "        return raw\n",
    "    \n",
    "    def post_processing(self, backtest_data):\n",
    "        df = post_processing(backtest_data)\n",
    "        return df"
   ]
  },
  {
   "cell_type": "code",
   "execution_count": 5,
   "id": "00085f39",
   "metadata": {},
   "outputs": [
    {
     "name": "stdout",
     "output_type": "stream",
     "text": [
      "\n",
      "                  ___________    ____\n",
      "  ________ __ ___/ / ____/   |  / __ \\\n",
      " / ___/ __` / __  / /   / /| | / / / /\n",
      "/ /__/ /_/ / /_/ / /___/ ___ |/ /_/ /\n",
      "\\___/\\__,_/\\__,_/\\____/_/  |_/_____/\n",
      "by cadCAD\n",
      "\n",
      "cadCAD Version: 0.4.28\n",
      "Execution Mode: local_proc\n",
      "Simulation Dimensions:\n",
      "Entire Simulation: (Models, Unique Timesteps, Params, Total Runs, Sub-States) = (1, 100, 1, 1, 2)\n",
      "     Simulation 0: (Timesteps, Params, Runs, Sub-States) = (100, 1, 1, 2)\n",
      "Execution Method: local_simulations\n",
      "Execution Mode: single_threaded\n",
      "Total execution time: 0.01s\n"
     ]
    }
   ],
   "source": [
    "TestDataPipeline = ArbitrageDataPipeline()\n",
    "TestBacktestModel = BacktestModel()\n",
    "arb_dt = ArbitrageDigitalTwin(name = \"Test\",\n",
    "                    data_pipeline = TestDataPipeline,\n",
    "                    backtest_model = TestBacktestModel)\n",
    "arb_dt.load_data_initial()\n",
    "arb_dt.compute_input_data()\n",
    "\n",
    "params_backtest = {}\n",
    "monte_carlo_runs_backtest = 1\n",
    "\n",
    "arb_dt.run_backtest(monte_carlo_runs_backtest, params_backtest)"
   ]
  },
  {
   "cell_type": "code",
   "execution_count": 14,
   "id": "f5f475e8",
   "metadata": {},
   "outputs": [
    {
     "data": {
      "text/plain": [
       "<AxesSubplot:ylabel='Frequency'>"
      ]
     },
     "execution_count": 14,
     "metadata": {},
     "output_type": "execute_result"
    },
    {
     "data": {
      "image/png": "[encoded data removed]",
      "text/plain": [
       "<Figure size 432x288 with 1 Axes>"
      ]
     },
     "metadata": {
      "needs_background": "light"
     },
     "output_type": "display_data"
    }
   ],
   "source": [
    "arb_dt.historical_data.pure_returns['index_return'].plot(kind='hist')"
   ]
  },
  {
   "cell_type": "code",
   "execution_count": 15,
   "id": "4533501e",
   "metadata": {},
   "outputs": [
    {
     "data": {
      "text/html": [
       "<div>\n",
       "<style scoped>\n",
       "    .dataframe tbody tr th:only-of-type {\n",
       "        vertical-align: middle;\n",
       "    }\n",
       "\n",
       "    .dataframe tbody tr th {\n",
       "        vertical-align: top;\n",
       "    }\n",
       "\n",
       "    .dataframe thead th {\n",
       "        text-align: right;\n",
       "    }\n",
       "</style>\n",
       "<table border=\"1\" class=\"dataframe\">\n",
       "  <thead>\n",
       "    <tr style=\"text-align: right;\">\n",
       "      <th></th>\n",
       "      <th>index_return</th>\n",
       "      <th>basket_return</th>\n",
       "    </tr>\n",
       "    <tr>\n",
       "      <th>t</th>\n",
       "      <th></th>\n",
       "      <th></th>\n",
       "    </tr>\n",
       "  </thead>\n",
       "  <tbody>\n",
       "    <tr>\n",
       "      <th>0</th>\n",
       "      <td>0.108714</td>\n",
       "      <td>0.098203</td>\n",
       "    </tr>\n",
       "    <tr>\n",
       "      <th>1</th>\n",
       "      <td>0.015029</td>\n",
       "      <td>0.030008</td>\n",
       "    </tr>\n",
       "    <tr>\n",
       "      <th>2</th>\n",
       "      <td>0.041838</td>\n",
       "      <td>0.058937</td>\n",
       "    </tr>\n",
       "    <tr>\n",
       "      <th>3</th>\n",
       "      <td>0.121034</td>\n",
       "      <td>0.122045</td>\n",
       "    </tr>\n",
       "    <tr>\n",
       "      <th>4</th>\n",
       "      <td>0.082809</td>\n",
       "      <td>0.103378</td>\n",
       "    </tr>\n",
       "    <tr>\n",
       "      <th>...</th>\n",
       "      <td>...</td>\n",
       "      <td>...</td>\n",
       "    </tr>\n",
       "    <tr>\n",
       "      <th>95</th>\n",
       "      <td>0.040580</td>\n",
       "      <td>0.045329</td>\n",
       "    </tr>\n",
       "    <tr>\n",
       "      <th>96</th>\n",
       "      <td>0.018690</td>\n",
       "      <td>0.010525</td>\n",
       "    </tr>\n",
       "    <tr>\n",
       "      <th>97</th>\n",
       "      <td>0.099099</td>\n",
       "      <td>0.099294</td>\n",
       "    </tr>\n",
       "    <tr>\n",
       "      <th>98</th>\n",
       "      <td>0.037843</td>\n",
       "      <td>0.016346</td>\n",
       "    </tr>\n",
       "    <tr>\n",
       "      <th>99</th>\n",
       "      <td>0.041955</td>\n",
       "      <td>0.030099</td>\n",
       "    </tr>\n",
       "  </tbody>\n",
       "</table>\n",
       "<p>100 rows × 2 columns</p>\n",
       "</div>"
      ],
      "text/plain": [
       "    index_return  basket_return\n",
       "t                              \n",
       "0       0.108714       0.098203\n",
       "1       0.015029       0.030008\n",
       "2       0.041838       0.058937\n",
       "3       0.121034       0.122045\n",
       "4       0.082809       0.103378\n",
       "..           ...            ...\n",
       "95      0.040580       0.045329\n",
       "96      0.018690       0.010525\n",
       "97      0.099099       0.099294\n",
       "98      0.037843       0.016346\n",
       "99      0.041955       0.030099\n",
       "\n",
       "[100 rows x 2 columns]"
      ]
     },
     "execution_count": 15,
     "metadata": {},
     "output_type": "execute_result"
    }
   ],
   "source": [
    "arb_dt.historical_data.pure_returns"
   ]
  },
  {
   "cell_type": "markdown",
   "id": "28cd38e2",
   "metadata": {},
   "source": [
    "Params can be dynamic to allow for different assumptions about what randomness looks like. For example, one set of params might be \n",
    "\n",
    "The name is for the name to be given to each series of data. The use_seeds param is whether to use seeds 1...N for setting randomness for reproducibility. The param_values are for the values in parameter setting. "
   ]
  },
  {
   "cell_type": "code",
   "execution_count": 18,
   "id": "c6a9301a",
   "metadata": {},
   "outputs": [],
   "source": [
    "params1 = {\"name\": \"Normal Distribution\",\n",
    "           \"use_seeds\": True,\n",
    "    \"param_values\": {\"index_return\": {\"type\": \"Normal Fitted\"},\n",
    "         \"basket_return\": {\"type\": \"Normal Fitted\"}}}\n",
    "\n",
    "params2 = {\"name\": \"Expert Model\",\n",
    "           \"use_seeds\": True,\n",
    "           \"param_values\": {\"index_return\": {\"type\": \"Expert Model\",\n",
    "                                      \"mu\": .01,\n",
    "                                       \"std\": .05},\n",
    "         \"basket_return\": {\"type\": \"Expert Model\",\n",
    "                          \"lambda\": .9,\n",
    "                          \"mu\": .015,\n",
    "                          \"std\": .1}}}\n",
    "\n",
    "params = [params1, params2]"
   ]
  },
  {
   "cell_type": "code",
   "execution_count": 20,
   "id": "5e13560f",
   "metadata": {},
   "outputs": [],
   "source": [
    "from abc import ABC, abstractmethod\n",
    "\n",
    "class StochasticFit(ABC):\n",
    "    \n",
    "    def __init__(self, params):\n",
    "        self.params = params\n",
    "        \n",
    "    def fit_data(self, data):\n",
    "        # Go through each param and get the stochastic fit\n",
    "        for param in self.params:\n",
    "            self.fit_param(param, data)\n",
    "        \n",
    "    @abstractmethod\n",
    "    def fit_param(self, param, data):\n",
    "        pass"
   ]
  },
  {
   "cell_type": "code",
   "execution_count": 27,
   "id": "05e3ed17",
   "metadata": {},
   "outputs": [],
   "source": [
    "class TestStochasticFit(StochasticFit):\n",
    "    \n",
    "    def fit_index_return(self, param_value, data):\n",
    "        print(param_value)\n",
    "        \n",
    "    def fit_basket_return(self, param_value, data):\n",
    "        print(param_value)\n",
    "        \n",
    "    def fit_param(self, param, data):\n",
    "        for pv in param[\"param_values\"]:\n",
    "            if pv == \"index_return\":\n",
    "                fitted = self.fit_index_return(param[\"param_values\"][pv], data)\n",
    "            elif pv == \"basket_return\":\n",
    "                fitted = self.fit_basket_return(param[\"param_values\"][pv], data)\n",
    "            else:\n",
    "                raise NotImplementedError"
   ]
  },
  {
   "cell_type": "code",
   "execution_count": 28,
   "id": "4ad28fb0",
   "metadata": {},
   "outputs": [
    {
     "name": "stdout",
     "output_type": "stream",
     "text": [
      "\n",
      "                  ___________    ____\n",
      "  ________ __ ___/ / ____/   |  / __ \\\n",
      " / ___/ __` / __  / /   / /| | / / / /\n",
      "/ /__/ /_/ / /_/ / /___/ ___ |/ /_/ /\n",
      "\\___/\\__,_/\\__,_/\\____/_/  |_/_____/\n",
      "by cadCAD\n",
      "\n",
      "cadCAD Version: 0.4.28\n",
      "Execution Mode: local_proc\n",
      "Simulation Dimensions:\n",
      "Entire Simulation: (Models, Unique Timesteps, Params, Total Runs, Sub-States) = (1, 100, 1, 1, 2)\n",
      "     Simulation 0: (Timesteps, Params, Runs, Sub-States) = (100, 1, 1, 2)\n",
      "Execution Method: local_simulations\n",
      "Execution Mode: single_threaded\n",
      "Total execution time: 0.01s\n"
     ]
    }
   ],
   "source": [
    "TestDataPipeline = ArbitrageDataPipeline()\n",
    "TestBacktestModel = BacktestModel()\n",
    "test_stochastic_fit = TestStochasticFit(params)\n",
    "\n",
    "arb_dt = ArbitrageDigitalTwin(name = \"Test\",\n",
    "                    data_pipeline = TestDataPipeline,\n",
    "                    backtest_model = TestBacktestModel,\n",
    "                    stochastic_fit = test_stochastic_fit)\n",
    "arb_dt.load_data_initial()\n",
    "arb_dt.compute_input_data()\n",
    "\n",
    "params_backtest = {}\n",
    "monte_carlo_runs_backtest = 1\n",
    "\n",
    "arb_dt.run_backtest(monte_carlo_runs_backtest, params_backtest)"
   ]
  },
  {
   "cell_type": "code",
   "execution_count": 29,
   "id": "2c69493d",
   "metadata": {},
   "outputs": [
    {
     "name": "stdout",
     "output_type": "stream",
     "text": [
      "{'type': 'Normal Fitted'}\n",
      "{'type': 'Normal Fitted'}\n",
      "{'type': 'Expert Model', 'mu': 0.01, 'std': 0.05}\n",
      "{'type': 'Expert Model', 'lambda': 0.9, 'mu': 0.015, 'std': 0.1}\n"
     ]
    }
   ],
   "source": [
    "arb_dt.fit_stochastic_fit()"
   ]
  },
  {
   "cell_type": "code",
   "execution_count": null,
   "id": "1879f9f4",
   "metadata": {},
   "outputs": [],
   "source": []
  }
 ],
 "metadata": {
  "kernelspec": {
   "display_name": "Python 3",
   "language": "python",
   "name": "python3"
  },
  "language_info": {
   "codemirror_mode": {
    "name": "ipython",
    "version": 3
   },
   "file_extension": ".py",
   "mimetype": "text/x-python",
   "name": "python",
   "nbconvert_exporter": "python",
   "pygments_lexer": "ipython3",
   "version": "3.9.12"
  }
 },
 "nbformat": 4,
 "nbformat_minor": 5
}
