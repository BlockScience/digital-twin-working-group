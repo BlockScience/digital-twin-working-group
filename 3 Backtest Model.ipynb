{
 "cells": [
  {
   "cell_type": "markdown",
   "id": "41a5a8e0",
   "metadata": {},
   "source": [
    "# Backtest Model\n",
    "\n",
    "With the data sorted out, we move on to creating the backtest model for the digital twin. We want to be able to accurately replicate the system."
   ]
  },
  {
   "cell_type": "markdown",
   "id": "e442e4f7",
   "metadata": {},
   "source": [
    "### Notes for Itamar\n",
    "\n",
    "- Review 1. Set Up to get a better idea of what the problem is\n",
    "- You can look at 2 but it is not important for learning, it just does the data processing, you can take as is"
   ]
  },
  {
   "cell_type": "code",
   "execution_count": null,
   "id": "6ca2d482",
   "metadata": {},
   "outputs": [],
   "source": []
  }
 ],
 "metadata": {
  "kernelspec": {
   "display_name": "Python 3",
   "language": "python",
   "name": "python3"
  },
  "language_info": {
   "codemirror_mode": {
    "name": "ipython",
    "version": 3
   },
   "file_extension": ".py",
   "mimetype": "text/x-python",
   "name": "python",
   "nbconvert_exporter": "python",
   "pygments_lexer": "ipython3",
   "version": "3.9.4"
  }
 },
 "nbformat": 4,
 "nbformat_minor": 5
}
