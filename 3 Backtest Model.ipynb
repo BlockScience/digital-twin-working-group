{
 "cells": [
  {
   "cell_type": "markdown",
   "id": "e876269d",
   "metadata": {},
   "source": [
    "# Backtest Model\n",
    "\n",
    "With the data sorted out, we move on to creating the backtest model for the digital twin. We want to be able to accurately replicate the system."
   ]
  },
  {
   "cell_type": "markdown",
   "id": "f37a6a96",
   "metadata": {},
   "source": [
    "### Notes for Itamar\n",
    "\n",
    "- Review 1. Set Up to get a better idea of what the problem is\n",
    "- You can look at 2 but it is not important for learning, it just does the data processing, you can take as is"
   ]
  },
  {
   "cell_type": "markdown",
   "id": "ca39aa42",
   "metadata": {},
   "source": [
    "## Prior Work\n",
    "\n",
    "The following prior work will be used for developing this part."
   ]
  },
  {
   "cell_type": "code",
   "execution_count": 2,
   "id": "160ba2e2",
   "metadata": {},
   "outputs": [],
   "source": [
    "import sqlite3\n",
    "import pandas as pd\n",
    "import numpy as np\n",
    "from dataclasses import dataclass\n",
    "import digital_twin\n",
    "\n",
    "def pull_pure_returns(con):\n",
    "    return pd.read_sql(\"SELECT * FROM pure_returns\", con)\n",
    "\n",
    "def pull_prices(con):\n",
    "    return pd.read_sql(\"SELECT * FROM prices\", con)\n",
    "\n",
    "def pull_trades(con):\n",
    "    return pd.read_sql(\"SELECT * FROM trades\", con)\n",
    "\n",
    "def process_pure_returns(pure_returns_data):\n",
    "    pure_returns_data = pure_returns_data.set_index('t')\n",
    "    pure_returns_data = pure_returns_data.sort_index()\n",
    "    return pure_returns_data\n",
    "\n",
    "def process_prices(prices_data):\n",
    "    prices_data = prices_data.set_index('t')\n",
    "    prices_data = prices_data.sort_index()\n",
    "    return prices_data\n",
    "\n",
    "def process_trades(trades_data):\n",
    "    trades_data = trades_data.rename(columns = {\"time\": \"t\"})\n",
    "    trades_data[\"had_trade\"] = True\n",
    "    trades_data = trades_data.pivot(\"t\", \"trade\", \"had_trade\")\n",
    "    trades_data = trades_data.fillna(False)\n",
    "    return trades_data\n",
    "\n",
    "def aggregate_pull(con):\n",
    "    pure_returns_data = pull_pure_returns(con)\n",
    "    prices_data = pull_prices(con)\n",
    "    trades_data = pull_trades(con)\n",
    "\n",
    "    pure_returns_data = process_pure_returns(pure_returns_data)\n",
    "    prices_data = process_prices(prices_data)\n",
    "    trades_data = process_trades(trades_data)\n",
    "    \n",
    "    data = {\"pure_returns\": pure_returns_data,\n",
    "           \"prices_data\": prices_data,\n",
    "           \"trades_data\": trades_data}\n",
    "    \n",
    "    return data\n",
    "\n",
    "def compute_input_data(data):\n",
    "    pure_returns_data = data[\"pure_returns\"].copy()\n",
    "    prices_data = data[\"prices_data\"].copy()\n",
    "    trades_data = data[\"trades_data\"].copy()\n",
    "    \n",
    "    #Grab the starting state\n",
    "    starting_state = prices_data.iloc[0]\n",
    "    prices_data = prices_data.iloc[1:]\n",
    "    prices_data.index = prices_data.index - 1\n",
    "    \n",
    "    #Combine data\n",
    "    historical_data = pd.concat([pure_returns_data, prices_data, trades_data], axis=1)\n",
    "    historical_data[[\"Arbitrage\", \"Momentum Buy\", \"Momentum Sell\"]] = historical_data[[\"Arbitrage\", \"Momentum Buy\", \"Momentum Sell\"]].fillna(False)\n",
    "    \n",
    "    input_data = historical_data[[\"index_return\", \"basket_return\"]]\n",
    "    output_data = historical_data[[\"index_price\", \"basket_price\", \"Arbitrage\", \"Momentum Buy\", \"Momentum Sell\"]]\n",
    "    \n",
    "    out = {\"starting_state\": starting_state,\n",
    "          \"historical_data\": historical_data,\n",
    "          \"input_data\": input_data,\n",
    "          \"output_data\": output_data}\n",
    "    \n",
    "    \n",
    "    return out\n",
    "\n",
    "share_price = float\n",
    "percentage_return = float\n",
    "trade_action = bool\n",
    "\n",
    "@dataclass\n",
    "class Prices():\n",
    "    index_price: share_price\n",
    "    basket_price: share_price\n",
    "        \n",
    "@dataclass\n",
    "class Returns():\n",
    "    index_return: percentage_return\n",
    "    basket_return: percentage_return\n",
    "        \n",
    "@dataclass\n",
    "class Trades():\n",
    "    arbitrage: trade_action\n",
    "    momentum_buy: trade_action\n",
    "    momentum_sell: trade_action\n",
    "        \n",
    "        \n",
    "def map_price(data):\n",
    "    return Prices(index_price = data[\"index_price\"],\n",
    "                 basket_price = data[\"basket_price\"])\n",
    "\n",
    "def map_returns(data):\n",
    "    return Returns(index_return = data[\"index_return\"],\n",
    "    basket_return = data[\"basket_return\"])\n",
    "\n",
    "def map_trades(data):\n",
    "    return Trades(arbitrage = data[\"Arbitrage\"],\n",
    "                 momentum_buy = data[\"Momentum Buy\"],\n",
    "                 momentum_sell = data[\"Momentum Sell\"])\n",
    "\n",
    "def format_inputs(inputs):\n",
    "    inputs_f = {}\n",
    "    \n",
    "    starting_state = inputs[\"starting_state\"].copy()\n",
    "    starting_state = map_price(starting_state)\n",
    "    inputs_f[\"starting_state\"] = starting_state\n",
    "    \n",
    "    historical_data = inputs[\"historical_data\"].copy()\n",
    "    historical_data[\"returns\"] = historical_data.apply(lambda x: map_returns(x),axis=1)\n",
    "    historical_data[\"prices\"] = historical_data.apply(lambda x: map_price(x),axis=1)\n",
    "    historical_data[\"trades\"] = historical_data.apply(lambda x: map_trades(x),axis=1)\n",
    "    historical_data = historical_data[[\"returns\", \"prices\", \"trades\"]]\n",
    "    inputs_f[\"historical_data\"] = historical_data\n",
    "    \n",
    "    input_data = inputs['input_data'].copy()\n",
    "    input_data[\"returns\"] = input_data.apply(lambda x: map_returns(x),axis=1)\n",
    "    input_data = input_data[[\"returns\"]]\n",
    "    inputs_f[\"input_data\"] = input_data\n",
    "    \n",
    "    output_data = inputs['output_data'].copy()\n",
    "    output_data[\"prices\"] = output_data.apply(lambda x: map_price(x),axis=1)\n",
    "    output_data[\"trades\"] = output_data.apply(lambda x: map_trades(x),axis=1)\n",
    "    output_data = output_data[[\"prices\", \"trades\"]]\n",
    "    inputs_f[\"output_data\"] = output_data\n",
    "    \n",
    "    return inputs_f\n",
    "\n",
    "class ArbitrageDataPipeline(digital_twin.DataPipeline):\n",
    "    def pull_historical_data(self):\n",
    "        con = sqlite3.connect('arb.db')\n",
    "        return aggregate_pull(con)\n",
    "    \n",
    "    def compute_input_data(self, data):\n",
    "        return compute_input_data(data)\n",
    "    \n",
    "    def format_input_data(self, data):\n",
    "        return format_inputs(data)\n",
    "\n",
    "class ArbitrageDigitalTwin(digital_twin.DigitalTwin):\n",
    "    def load_data_initial(self):\n",
    "        self.historical_data = self.data_pipeline.pull_historical_data()\n",
    "        \n",
    "        self.historical_data[\"pure_returns\"].to_csv(\"pure_returns.csv\")\n",
    "        self.historical_data[\"prices_data\"].to_csv(\"prices_data.csv\")\n",
    "        self.historical_data[\"trades_data\"].to_csv(\"trades_data.csv\")\n",
    "    \n",
    "    def load_data_prior(self):\n",
    "        self.historical_data = {}\n",
    "        \n",
    "        self.historical_data[\"pure_returns\"] = pd.read_csv(\"pure_returns.csv\", index_col = 0)\n",
    "        self.historical_data[\"prices_data\"] = pd.read_csv(\"prices_data.csv\", index_col = 0)\n",
    "        self.historical_data[\"trades_data\"] = pd.read_csv(\"trades_data.csv\", index_col = 0)\n"
   ]
  },
  {
   "cell_type": "code",
   "execution_count": 3,
   "id": "0074eb12",
   "metadata": {},
   "outputs": [],
   "source": [
    "TestDataPipeline = ArbitrageDataPipeline()\n",
    "arb_dt = ArbitrageDigitalTwin(name = \"Test\",\n",
    "                    data_pipeline = TestDataPipeline)\n",
    "arb_dt.load_data_initial()\n",
    "arb_dt.compute_input_data()"
   ]
  },
  {
   "cell_type": "markdown",
   "id": "21c4f0bc",
   "metadata": {},
   "source": [
    "## For Itamar:\n",
    "\n",
    "1. Start by mapping out from the \"1 Set Up\" notebook what the policies and state updates will end up being.\n",
    "2. Begin iterating on the different policy and state updates outside of a cadCAD model first (unless you prefer working with them in a cadCAD model). I find it easier to debug this way.\n",
    "3. Use only the input data within the model, and then use the output data to check that you have correctly created teh mechanisms.\n",
    "4. For now you can just hard code the values for theta for trades, but eventually we will have it as a parameter"
   ]
  },
  {
   "cell_type": "markdown",
   "id": "5064dc9d",
   "metadata": {},
   "source": [
    "Starting state of the system:"
   ]
  },
  {
   "cell_type": "code",
   "execution_count": 9,
   "id": "651bd6b4",
   "metadata": {},
   "outputs": [
    {
     "name": "stdout",
     "output_type": "stream",
     "text": [
      "Prices(index_price=100.0, basket_price=100.0)\n"
     ]
    }
   ],
   "source": [
    "starting_state = arb_dt.input_data[\"starting_state\"]\n",
    "print(starting_state)"
   ]
  },
  {
   "cell_type": "markdown",
   "id": "b46038d4",
   "metadata": {},
   "source": [
    "Input data, which you can reference within the cadCAD model by grabbing the timestep and indexing into the array. In this case it is just return data."
   ]
  },
  {
   "cell_type": "code",
   "execution_count": 10,
   "id": "5b8c0cf5",
   "metadata": {},
   "outputs": [
    {
     "name": "stdout",
     "output_type": "stream",
     "text": [
      "                                              returns\n",
      "t                                                    \n",
      "0   Returns(index_return=0.10871386253910743, bask...\n",
      "1   Returns(index_return=0.015029483765100592, bas...\n",
      "2   Returns(index_return=0.04183835929990093, bask...\n",
      "3   Returns(index_return=0.12103416104564571, bask...\n",
      "4   Returns(index_return=0.08280887550560694, bask...\n",
      "..                                                ...\n",
      "95  Returns(index_return=0.040580329256415186, bas...\n",
      "96  Returns(index_return=0.018690406444573593, bas...\n",
      "97  Returns(index_return=0.0990992137653999, baske...\n",
      "98  Returns(index_return=0.037843403664469796, bas...\n",
      "99  Returns(index_return=0.041954800849375494, bas...\n",
      "\n",
      "[100 rows x 1 columns]\n"
     ]
    }
   ],
   "source": [
    "input_data = arb_dt.input_data[\"input_data\"]\n",
    "print(input_data)"
   ]
  },
  {
   "cell_type": "markdown",
   "id": "15dc09d7",
   "metadata": {},
   "source": [
    "Output data, each timestep should be checking out to these values."
   ]
  },
  {
   "cell_type": "code",
   "execution_count": 11,
   "id": "634264c5",
   "metadata": {},
   "outputs": [
    {
     "name": "stdout",
     "output_type": "stream",
     "text": [
      "                                               prices  \\\n",
      "t                                                       \n",
      "0   Prices(index_price=110.87138625391076, basket_...   \n",
      "1   Prices(index_price=112.53772595362811, basket_...   \n",
      "2   Prices(index_price=120.17727276104154, basket_...   \n",
      "3   Prices(index_price=138.09089885008862, basket_...   \n",
      "4   Prices(index_price=153.26420217395852, basket_...   \n",
      "..                                                ...   \n",
      "95  Prices(index_price=282.98793555193873, basket_...   \n",
      "96  Prices(index_price=295.48402246347314, basket_...   \n",
      "97  Prices(index_price=314.3609940653123, basket_p...   \n",
      "98  Prices(index_price=319.4994145870264, basket_p...   \n",
      "99  Prices(index_price=329.1161770474364, basket_p...   \n",
      "\n",
      "                                               trades  \n",
      "t                                                      \n",
      "0   Trades(arbitrage=False, momentum_buy=False, mo...  \n",
      "1   Trades(arbitrage=False, momentum_buy=False, mo...  \n",
      "2   Trades(arbitrage=False, momentum_buy=True, mom...  \n",
      "3   Trades(arbitrage=False, momentum_buy=True, mom...  \n",
      "4   Trades(arbitrage=False, momentum_buy=True, mom...  \n",
      "..                                                ...  \n",
      "95  Trades(arbitrage=True, momentum_buy=True, mome...  \n",
      "96  Trades(arbitrage=False, momentum_buy=True, mom...  \n",
      "97  Trades(arbitrage=True, momentum_buy=True, mome...  \n",
      "98  Trades(arbitrage=True, momentum_buy=True, mome...  \n",
      "99  Trades(arbitrage=True, momentum_buy=True, mome...  \n",
      "\n",
      "[100 rows x 2 columns]\n"
     ]
    }
   ],
   "source": [
    "output_data = arb_dt.input_data[\"output_data\"]\n",
    "print(output_data)"
   ]
  },
  {
   "cell_type": "code",
   "execution_count": null,
   "id": "7d98740b",
   "metadata": {},
   "outputs": [],
   "source": []
  }
 ],
 "metadata": {
  "kernelspec": {
   "display_name": "Python 3",
   "language": "python",
   "name": "python3"
  },
  "language_info": {
   "codemirror_mode": {
    "name": "ipython",
    "version": 3
   },
   "file_extension": ".py",
   "mimetype": "text/x-python",
   "name": "python",
   "nbconvert_exporter": "python",
   "pygments_lexer": "ipython3",
   "version": "3.9.4"
  }
 },
 "nbformat": 4,
 "nbformat_minor": 5
}
