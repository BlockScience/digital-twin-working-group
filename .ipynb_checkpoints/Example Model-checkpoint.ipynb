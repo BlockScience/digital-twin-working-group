{
 "cells": [
  {
   "cell_type": "markdown",
   "id": "79e70da6",
   "metadata": {},
   "source": [
    "# Index Fund Arbitrage\n",
    "\n",
    "## Introduction\n",
    "\n",
    "An index fund will hold a basket of assets for some sort of general investment thesis. This allows individuals to buy and sell the index fund shares but essentially \"own\" the basket instead of needing to form the basket themselves.\n",
    "\n",
    "Every day, an index fund's NAV, Net Asset Value, is calculated and it represents the underlying value of the basket. The actual share price for the index fund shares can be at a premium (higher than the NAV) or at a discount (lower than the NAV). However, we expect an equilibrium over time where there is on average no premium or discount.\n",
    "\n",
    "This example will track the price of a basket of goods as well as an index fund and try to see what dynamics might arise in terms of potential arbitrage. We will assume there are two types of actors:\n",
    "\n",
    "1. Arbitrage Actor: This actor brings the price of the index fund in line with the basket of goods through arbitrage.\n",
    "2. Momentum Trader: This actor will bet on momentum."
   ]
  },
  {
   "cell_type": "code",
   "execution_count": 9,
   "id": "42529e91",
   "metadata": {},
   "outputs": [],
   "source": [
    "import sqlite3\n",
    "import pandas as pd\n",
    "con = sqlite3.connect(':memory:')\n"
   ]
  },
  {
   "cell_type": "code",
   "execution_count": 10,
   "id": "96359782",
   "metadata": {},
   "outputs": [],
   "source": [
    "import numpy as np"
   ]
  },
  {
   "cell_type": "code",
   "execution_count": 11,
   "id": "dfd97225",
   "metadata": {},
   "outputs": [],
   "source": [
    "np.random.seed(0)"
   ]
  },
  {
   "cell_type": "code",
   "execution_count": null,
   "id": "2029793f",
   "metadata": {},
   "outputs": [],
   "source": []
  },
  {
   "cell_type": "code",
   "execution_count": null,
   "id": "65b01ccc",
   "metadata": {},
   "outputs": [],
   "source": [
    "true_prices = pd.DataFrame()"
   ]
  }
 ],
 "metadata": {
  "kernelspec": {
   "display_name": "Python 3",
   "language": "python",
   "name": "python3"
  },
  "language_info": {
   "codemirror_mode": {
    "name": "ipython",
    "version": 3
   },
   "file_extension": ".py",
   "mimetype": "text/x-python",
   "name": "python",
   "nbconvert_exporter": "python",
   "pygments_lexer": "ipython3",
   "version": "3.9.4"
  }
 },
 "nbformat": 4,
 "nbformat_minor": 5
}
