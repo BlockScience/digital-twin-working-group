{
 "cells": [
  {
   "cell_type": "code",
   "execution_count": 2,
   "id": "60dfa75a",
   "metadata": {},
   "outputs": [],
   "source": [
    "from model2 import types"
   ]
  },
  {
   "cell_type": "code",
   "execution_count": 3,
   "id": "9e156607",
   "metadata": {},
   "outputs": [
    {
     "data": {
      "text/plain": [
       "<module 'model2.types.actions' from '/Users/seanmcowen/Dropbox/BlockScience/DTWC/model2/types/actions.py'>"
      ]
     },
     "execution_count": 3,
     "metadata": {},
     "output_type": "execute_result"
    }
   ],
   "source": [
    "types.actions"
   ]
  },
  {
   "cell_type": "code",
   "execution_count": null,
   "id": "05eecc3b",
   "metadata": {},
   "outputs": [],
   "source": []
  }
 ],
 "metadata": {
  "kernelspec": {
   "display_name": "Python 3",
   "language": "python",
   "name": "python3"
  },
  "language_info": {
   "codemirror_mode": {
    "name": "ipython",
    "version": 3
   },
   "file_extension": ".py",
   "mimetype": "text/x-python",
   "name": "python",
   "nbconvert_exporter": "python",
   "pygments_lexer": "ipython3",
   "version": "3.9.12"
  }
 },
 "nbformat": 4,
 "nbformat_minor": 5
}
