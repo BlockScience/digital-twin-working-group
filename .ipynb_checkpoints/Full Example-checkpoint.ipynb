{
 "cells": [
  {
   "cell_type": "markdown",
   "id": "0bb93373",
   "metadata": {},
   "source": [
    "# Executive Summary\n",
    "\n",
    "This full example is meant to implement how the digital twin abstract class is supposed to be useful and work. It will show what needs to be done on the model end as well as what gets used on the digital twin abstract class end.\n",
    "\n",
    "The directory for this model is \"model2\"\n",
    "\n",
    "Everything here would be what should be going into a dt.py file that would create the digital twin framework."
   ]
  },
  {
   "cell_type": "markdown",
   "id": "b8a2d981",
   "metadata": {},
   "source": [
    "# 1. Data Pipelines\n",
    "\n",
    "# Model Specific\n",
    "\n",
    "## Types\n",
    "\n",
    "Under types, there is definitions for all types that are to be used in the system. Copious typing should be done, and for all data types with both raw/processed there should be a type.\n",
    "\n",
    "## Data\n",
    "\n",
    "While there is data processing functions, these are supposed to be light data functions and any hardcode data processing should be through a data infrastructure. The functions will be of the following categories, where N is a variable number of data pulls, and brackets will show how many of any given type there should be.\n",
    "\n",
    "1. [1+] Data Connection Method: A method for how to connect to the database. Input: None Output: Connection\n",
    "2. [N] Raw Data Pulls: Pulls that directly hit the data infrastructure held database tables. Input: Connection Output: Raw Data Type\n",
    "3. [N] Data Processing: Any light data processing such as doing pivots since holding a pivot table would be space ineffecient on the SQL side. Input: Raw Data Type Output: Processed Data Type\n",
    "4. [1] Backtest Data Pull: A pull that combines all raw pulls and data processing pulls, plus connects to the database and returns a Backtest Data Type. Input: None Output: Backtest Data Type\n",
    "5. [1] Input Data Computation: A processing function that takes backtest data and then returns starting state, the historical data, the input data (what goes into the backtest) and the output data (what is being used to validate the backtest). Input: Backtest Data Type Output: Input Data Type\n",
    "6. [1] Format Inputs: One function which takes the input data and formats the input into data classes for use within cadCAD.\n",
    "\n",
    "# Digital Twin Specific\n",
    "\n",
    "1. A DataPipeline class should be made which fills out pull_historical_data, compute_input_data, format_input_data corresponding to the functions defined above.\n",
    "2. A function of load_data_initial should be made in the DT class which specifies how to save down pulled data. This can be csv, pickle, etc. \n",
    "3. A function of load_data_prior should be made in the DT class which specifies how to pull back old data used."
   ]
  },
  {
   "cell_type": "code",
   "execution_count": 1,
   "id": "12002370",
   "metadata": {},
   "outputs": [],
   "source": [
    "import digital_twin\n",
    "from model2.data import pull_backtest_data, create_input_data, format_inputs\n",
    "from model2.types import BacktestData\n",
    "\n",
    "class ArbitrageDataPipeline(digital_twin.DataPipeline):\n",
    "    \n",
    "    def pull_historical_data(self):\n",
    "        return pull_backtest_data()\n",
    "    \n",
    "    def compute_input_data(self, data):\n",
    "        return create_input_data(data)\n",
    "    \n",
    "    def format_input_data(self, data):\n",
    "        return format_inputs(data)\n",
    "\n",
    "class ArbitrageDigitalTwin(digital_twin.DigitalTwin):\n",
    "    \n",
    "    def load_data_initial(self):\n",
    "        self.historical_data = self.data_pipeline.pull_historical_data()\n",
    "        \n",
    "        self.historical_data.pure_returns.to_csv(\"pure_returns.csv\")\n",
    "        self.historical_data.prices_data.to_csv(\"prices_data.csv\")\n",
    "        self.historical_data.trades_data.to_csv(\"trades_data.csv\")\n",
    "    \n",
    "    def load_data_prior(self):\n",
    "        pure_returns = pd.read_csv(\"pure_returns.csv\", index_col = 0)\n",
    "        prices_data = pd.read_csv(\"prices_data.csv\", index_col = 0)\n",
    "        trades_data = pd.read_csv(\"trades_data.csv\", index_col = 0)\n",
    "        \n",
    "        self.historical_data = BacktestData(pure_returns = pure_returns_data, \n",
    "                        prices_data = prices_data,\n",
    "                        trades_data = trades_data)"
   ]
  },
  {
   "cell_type": "code",
   "execution_count": 2,
   "id": "1b4a546f",
   "metadata": {},
   "outputs": [],
   "source": [
    "TestDataPipeline = ArbitrageDataPipeline()\n",
    "arb_dt = ArbitrageDigitalTwin(name = \"Test\",\n",
    "                    data_pipeline = TestDataPipeline)\n",
    "arb_dt.load_data_initial()\n",
    "arb_dt.compute_input_data()"
   ]
  },
  {
   "cell_type": "markdown",
   "id": "cc842ace",
   "metadata": {},
   "source": [
    "# 2. Backtest Model\n",
    "\n",
    "# Model Specific\n",
    "\n",
    "## Partial State Update Blocks\n",
    "\n",
    "- The file of psub.py holds all the partial state update blocks. There is distinction between the backtesting based blocks and the extrapolation based blocks.\n",
    "\n",
    "## Run \n",
    "\n",
    "This file has a few functionalities to be built.\n",
    "\n",
    "1. load_config_backtest: This function is meant to load up the configuration for backtesting.\n",
    "2. run: A function for running the model\n",
    "3. post_processing: A function for post processing after the run\n",
    "\n",
    "# Digital Twin Specific\n",
    "\n",
    "1. A BacktestModel class needs to be made from digital twin model\n",
    "2. The load config function should map the configuration loading for backtesting\n",
    "3. The run model function fills in how the model will run\n",
    "4. Post processing likewise is mapped through there\n",
    "\n",
    "We add it into the full workflow below as an example."
   ]
  },
  {
   "cell_type": "code",
   "execution_count": 3,
   "id": "3b488ad4",
   "metadata": {},
   "outputs": [],
   "source": [
    "from model2.run import load_config_backtest, run, post_processing"
   ]
  },
  {
   "cell_type": "code",
   "execution_count": 4,
   "id": "505f3042",
   "metadata": {},
   "outputs": [],
   "source": [
    "class BacktestModel(digital_twin.Model):\n",
    "    def load_config(self, monte_carlo_runs, timesteps,\n",
    "                    params, initial_state):\n",
    "        exp = load_config_backtest(monte_carlo_runs = monte_carlo_runs,\n",
    "            timesteps = timesteps,\n",
    "            params = params,\n",
    "            initial_state = initial_state)\n",
    "        return exp\n",
    "    \n",
    "    def run_model(self, exp):\n",
    "        raw = run(exp)\n",
    "        return raw\n",
    "    \n",
    "    def post_processing(self, backtest_data):\n",
    "        df = post_processing(backtest_data)\n",
    "        return df"
   ]
  },
  {
   "cell_type": "code",
   "execution_count": 5,
   "id": "00085f39",
   "metadata": {},
   "outputs": [
    {
     "name": "stdout",
     "output_type": "stream",
     "text": [
      "\n",
      "                  ___________    ____\n",
      "  ________ __ ___/ / ____/   |  / __ \\\n",
      " / ___/ __` / __  / /   / /| | / / / /\n",
      "/ /__/ /_/ / /_/ / /___/ ___ |/ /_/ /\n",
      "\\___/\\__,_/\\__,_/\\____/_/  |_/_____/\n",
      "by cadCAD\n",
      "\n",
      "cadCAD Version: 0.4.28\n",
      "Execution Mode: local_proc\n",
      "Simulation Dimensions:\n",
      "Entire Simulation: (Models, Unique Timesteps, Params, Total Runs, Sub-States) = (1, 100, 1, 1, 2)\n",
      "     Simulation 0: (Timesteps, Params, Runs, Sub-States) = (100, 1, 1, 2)\n",
      "Execution Method: local_simulations\n",
      "Execution Mode: single_threaded\n",
      "Total execution time: 0.01s\n"
     ]
    }
   ],
   "source": [
    "TestDataPipeline = ArbitrageDataPipeline()\n",
    "TestBacktestModel = BacktestModel()\n",
    "arb_dt = ArbitrageDigitalTwin(name = \"Test\",\n",
    "                    data_pipeline = TestDataPipeline,\n",
    "                    backtest_model = TestBacktestModel)\n",
    "arb_dt.load_data_initial()\n",
    "arb_dt.compute_input_data()\n",
    "\n",
    "params_backtest = {}\n",
    "monte_carlo_runs_backtest = 1\n",
    "\n",
    "arb_dt.run_backtest(monte_carlo_runs_backtest, params_backtest)"
   ]
  },
  {
   "cell_type": "markdown",
   "id": "4e043c06",
   "metadata": {},
   "source": [
    "Params can be dynamic to allow for different assumptions about what randomness looks like. For example, one set of params might be \n",
    "\n",
    "The name is for the name to be given to each series of data. The use_seeds param is whether to use seeds 1...N for setting randomness for reproducibility. The param_values are for the values in parameter setting. "
   ]
  },
  {
   "cell_type": "code",
   "execution_count": 6,
   "id": "58a256d2",
   "metadata": {},
   "outputs": [],
   "source": [
    "class TestStochasticFit(digital_twin.StochasticFit):\n",
    "    \n",
    "    def fit_index_return(self, param_value, input_data, historical_data):\n",
    "        if param_value['type'] == 'Expert Model':\n",
    "            #Already has values put in\n",
    "            pass\n",
    "        elif param_value['type'] == 'Normal Fitted':\n",
    "            #Add mu and std\n",
    "            data = historical_data.pure_returns[\"index_return\"]\n",
    "            param_value[\"mu\"] = data.mean()\n",
    "            param_value[\"std\"] = data.std()\n",
    "        else:\n",
    "            raise NotImplementedError\n",
    "        \n",
    "    def fit_basket_return(self, param_value, input_data, historical_data):\n",
    "        if param_value['type'] == 'Expert Model':\n",
    "            #Already has values put in\n",
    "            pass\n",
    "        elif param_value['type'] == 'Normal Fitted':\n",
    "            #Add mu and std\n",
    "            data = historical_data.pure_returns[\"basket_return\"]\n",
    "            param_value[\"mu\"] = data.mean()\n",
    "            param_value[\"std\"] = data.std()\n",
    "        else:\n",
    "            raise NotImplementedError\n",
    "        \n",
    "    def fit_param(self, param, input_data, historical_data):\n",
    "        for pv in param[\"param_values\"]:\n",
    "            if pv == \"index_return\":\n",
    "                self.fit_index_return(param[\"param_values\"][pv], input_data, historical_data)\n",
    "            elif pv == \"basket_return\":\n",
    "                self.fit_basket_return(param[\"param_values\"][pv], input_data, historical_data)\n",
    "            else:\n",
    "                raise NotImplementedError\n",
    "                \n",
    "                \n"
   ]
  },
  {
   "cell_type": "code",
   "execution_count": 7,
   "id": "a9b54e3f",
   "metadata": {},
   "outputs": [
    {
     "name": "stdout",
     "output_type": "stream",
     "text": [
      "\n",
      "                  ___________    ____\n",
      "  ________ __ ___/ / ____/   |  / __ \\\n",
      " / ___/ __` / __  / /   / /| | / / / /\n",
      "/ /__/ /_/ / /_/ / /___/ ___ |/ /_/ /\n",
      "\\___/\\__,_/\\__,_/\\____/_/  |_/_____/\n",
      "by cadCAD\n",
      "\n",
      "cadCAD Version: 0.4.28\n",
      "Execution Mode: local_proc\n",
      "Simulation Dimensions:\n",
      "Entire Simulation: (Models, Unique Timesteps, Params, Total Runs, Sub-States) = (1, 100, 1, 1, 2)\n",
      "     Simulation 0: (Timesteps, Params, Runs, Sub-States) = (100, 1, 1, 2)\n",
      "Execution Method: local_simulations\n",
      "Execution Mode: single_threaded\n",
      "Total execution time: 0.01s\n"
     ]
    }
   ],
   "source": [
    "TestDataPipeline = ArbitrageDataPipeline()\n",
    "TestBacktestModel = BacktestModel()\n",
    "\n",
    "params1 = {\"name\": \"Normal Distribution\",\n",
    "           \"monte_carlo_runs\": 10,\n",
    "           \"use_seeds\": True,\n",
    "    \"param_values\": {\"index_return\": {\"type\": \"Normal Fitted\"},\n",
    "         \"basket_return\": {\"type\": \"Normal Fitted\"}}}\n",
    "\n",
    "params2 = {\"name\": \"Expert Model\",\n",
    "           \"monte_carlo_runs\": 10,\n",
    "           \"use_seeds\": True,\n",
    "           \"param_values\": {\"index_return\": {\"type\": \"Expert Model\",\n",
    "                                             \"lambda\": .9,\n",
    "                          \"mu\": .015,\n",
    "                          \"std\": .1},\n",
    "                            \n",
    "         \"basket_return\": {\"type\": \"Expert Model\",\n",
    "                          \"mu\": .01,\n",
    "                           \"std\": .05}}}\n",
    "\n",
    "params_sf = [params1, params2]\n",
    "test_stochastic_fit = TestStochasticFit(params_sf)\n",
    "\n",
    "arb_dt = ArbitrageDigitalTwin(name = \"Test\",\n",
    "                    data_pipeline = TestDataPipeline,\n",
    "                    backtest_model = TestBacktestModel,\n",
    "                    stochastic_fit = test_stochastic_fit)\n",
    "arb_dt.load_data_initial()\n",
    "arb_dt.compute_input_data()\n",
    "\n",
    "params_backtest = {}\n",
    "monte_carlo_runs_backtest = 1\n",
    "\n",
    "\n",
    "arb_dt.run_backtest(monte_carlo_runs_backtest, params_backtest)\n",
    "arb_dt.fit_stochastic_fit()"
   ]
  },
  {
   "cell_type": "markdown",
   "id": "a6abed07",
   "metadata": {},
   "source": [
    "# Signal Extrapolation"
   ]
  },
  {
   "cell_type": "code",
   "execution_count": null,
   "id": "1ef7c029",
   "metadata": {},
   "outputs": [],
   "source": []
  },
  {
   "cell_type": "code",
   "execution_count": 20,
   "id": "d4958691",
   "metadata": {},
   "outputs": [],
   "source": [
    "import numpy as np\n",
    "from model2.types import Returns\n",
    "\n",
    "class TestSignalExtrapolation(digital_twin.SignalExtrapolation):\n",
    "    def extrapolate_index_return(self, param, t, n, signals):\n",
    "        if param['type'] == 'Expert Model':\n",
    "            signals[\"index_return\"] = param[\"lambda\"] * signals[\"basket_return\"] +\\\n",
    "            (1 - param[\"lambda\"]) * np.random.normal(param[\"mu\"], param[\"std\"], (t,n))\n",
    "        elif param['type'] == 'Normal Fitted':\n",
    "            signals[\"index_return\"] = np.random.normal(param[\"mu\"], param[\"std\"], (t,n))\n",
    "        else:\n",
    "            raise NotImplementedError\n",
    "    \n",
    "    def extrapolate_basket_return(self, param, t, n, signals):\n",
    "        if param['type'] == 'Expert Model':\n",
    "            signals[\"basket_return\"] = np.random.normal(param[\"mu\"], param[\"std\"], (t,n))\n",
    "        elif param['type'] == 'Normal Fitted':\n",
    "            signals[\"basket_return\"] = np.random.normal(param[\"mu\"], param[\"std\"], (t,n))\n",
    "        else:\n",
    "            raise NotImplementedError\n",
    "    \n",
    "    def extrapolate_signals(self, stochastic_params, t):\n",
    "        signals_total = []\n",
    "        for stochastic_param_i in stochastic_params:\n",
    "            n = stochastic_param_i[\"monte_carlo_runs\"]\n",
    "            signals = {}\n",
    "            if stochastic_param_i[\"use_seeds\"]:\n",
    "                np.random.seed(1)\n",
    "            self.extrapolate_basket_return(stochastic_param_i[\"param_values\"][\"basket_return\"], t, n, signals)\n",
    "            self.extrapolate_index_return(stochastic_param_i[\"param_values\"][\"index_return\"], t, n, signals)\n",
    "            signals_total.append(signals)\n",
    "        return signals_total\n",
    "    \n",
    "    def process_signal(self, param, signal_raw):\n",
    "        signal = []\n",
    "        for i in range(param[\"monte_carlo_runs\"]):\n",
    "            signal_i = []\n",
    "            br = signal_raw[\"basket_return\"][:,i]\n",
    "            ir = signal_raw[\"index_return\"][:,i]\n",
    "            run_n = i\n",
    "            signal_name = param[\"name\"]\n",
    "            for br_i, ir_i in zip(br, ir):\n",
    "                r = Returns(index_return = ir_i,\n",
    "                           basket_return = br_i)\n",
    "                signal_i.append({\"returns\": r,\n",
    "                                \"signal_name\": signal_name,\n",
    "                                \"signal_run_number\": run_n})\n",
    "            signal.append(signal_i)\n",
    "        return signal\n",
    "\n"
   ]
  },
  {
   "cell_type": "code",
   "execution_count": 9,
   "id": "eef35e76",
   "metadata": {},
   "outputs": [
    {
     "name": "stdout",
     "output_type": "stream",
     "text": [
      "\n",
      "                  ___________    ____\n",
      "  ________ __ ___/ / ____/   |  / __ \\\n",
      " / ___/ __` / __  / /   / /| | / / / /\n",
      "/ /__/ /_/ / /_/ / /___/ ___ |/ /_/ /\n",
      "\\___/\\__,_/\\__,_/\\____/_/  |_/_____/\n",
      "by cadCAD\n",
      "\n",
      "cadCAD Version: 0.4.28\n",
      "Execution Mode: local_proc\n",
      "Simulation Dimensions:\n",
      "Entire Simulation: (Models, Unique Timesteps, Params, Total Runs, Sub-States) = (1, 100, 1, 1, 2)\n",
      "     Simulation 0: (Timesteps, Params, Runs, Sub-States) = (100, 1, 1, 2)\n",
      "Execution Method: local_simulations\n",
      "Execution Mode: single_threaded\n",
      "Total execution time: 0.02s\n"
     ]
    }
   ],
   "source": [
    "TestDataPipeline = ArbitrageDataPipeline()\n",
    "TestBacktestModel = BacktestModel()\n",
    "\n",
    "params1 = {\"name\": \"Normal Distribution\",\n",
    "           \"monte_carlo_runs\": 10,\n",
    "           \"use_seeds\": True,\n",
    "    \"param_values\": {\"index_return\": {\"type\": \"Normal Fitted\"},\n",
    "         \"basket_return\": {\"type\": \"Normal Fitted\"}}}\n",
    "\n",
    "params2 = {\"name\": \"Expert Model\",\n",
    "           \"monte_carlo_runs\": 10,\n",
    "           \"use_seeds\": True,\n",
    "           \"param_values\": {\"index_return\": {\"type\": \"Expert Model\",\n",
    "                                             \"lambda\": .9,\n",
    "                          \"mu\": .015,\n",
    "                          \"std\": .1},\n",
    "                            \n",
    "         \"basket_return\": {\"type\": \"Expert Model\",\n",
    "                          \"mu\": .01,\n",
    "                           \"std\": .05}}}\n",
    "\n",
    "extrapolation_epochs = 25\n",
    "\n",
    "params_sf = [params1, params2]\n",
    "test_stochastic_fit = TestStochasticFit(params_sf)\n",
    "test_signal_extrapolation = TestSignalExtrapolation()\n",
    "\n",
    "arb_dt = ArbitrageDigitalTwin(name = \"Test\",\n",
    "                    data_pipeline = TestDataPipeline,\n",
    "                    backtest_model = TestBacktestModel,\n",
    "                    stochastic_fit = test_stochastic_fit,\n",
    "                    signal_extrapolation = test_signal_extrapolation,\n",
    "                    extrapolation_epochs = extrapolation_epochs)\n",
    "arb_dt.load_data_initial()\n",
    "arb_dt.compute_input_data()\n",
    "\n",
    "params_backtest = {}\n",
    "monte_carlo_runs_backtest = 1\n",
    "\n",
    "\n",
    "arb_dt.run_backtest(monte_carlo_runs_backtest, params_backtest)\n",
    "arb_dt.fit_stochastic_fit()\n",
    "arb_dt.extrapolate_signals()"
   ]
  },
  {
   "cell_type": "markdown",
   "id": "3d9f8375",
   "metadata": {},
   "source": [
    "# Extrapolation Model"
   ]
  },
  {
   "cell_type": "code",
   "execution_count": 10,
   "id": "cc6825f0",
   "metadata": {},
   "outputs": [],
   "source": [
    "from model2.run import load_config_extrapolation\n",
    "\n",
    "class ExtrapolationModel(digital_twin.Model):\n",
    "    def load_config(self, monte_carlo_runs, timesteps,\n",
    "                    params, initial_state):\n",
    "        exp = load_config_extrapolation(monte_carlo_runs = monte_carlo_runs,\n",
    "            timesteps = timesteps,\n",
    "            params = params,\n",
    "            initial_state = initial_state)\n",
    "        return exp\n",
    "    \n",
    "    def run_model(self, exp):\n",
    "        raw = run(exp)\n",
    "        return raw\n",
    "    \n",
    "    def post_processing(self, backtest_data):\n",
    "        df = post_processing(backtest_data)\n",
    "        return df"
   ]
  },
  {
   "cell_type": "code",
   "execution_count": 11,
   "id": "7f185d15",
   "metadata": {},
   "outputs": [
    {
     "name": "stdout",
     "output_type": "stream",
     "text": [
      "\n",
      "                  ___________    ____\n",
      "  ________ __ ___/ / ____/   |  / __ \\\n",
      " / ___/ __` / __  / /   / /| | / / / /\n",
      "/ /__/ /_/ / /_/ / /___/ ___ |/ /_/ /\n",
      "\\___/\\__,_/\\__,_/\\____/_/  |_/_____/\n",
      "by cadCAD\n",
      "\n",
      "cadCAD Version: 0.4.28\n",
      "Execution Mode: local_proc\n",
      "Simulation Dimensions:\n",
      "Entire Simulation: (Models, Unique Timesteps, Params, Total Runs, Sub-States) = (1, 100, 1, 1, 2)\n",
      "     Simulation 0: (Timesteps, Params, Runs, Sub-States) = (100, 1, 1, 2)\n",
      "Execution Method: local_simulations\n",
      "Execution Mode: single_threaded\n",
      "Total execution time: 0.01s\n"
     ]
    }
   ],
   "source": [
    "TestDataPipeline = ArbitrageDataPipeline()\n",
    "TestBacktestModel = BacktestModel()\n",
    "\n",
    "params1 = {\"name\": \"Normal Distribution\",\n",
    "           \"monte_carlo_runs\": 10,\n",
    "           \"use_seeds\": True,\n",
    "    \"param_values\": {\"index_return\": {\"type\": \"Normal Fitted\"},\n",
    "         \"basket_return\": {\"type\": \"Normal Fitted\"}}}\n",
    "\n",
    "params2 = {\"name\": \"Expert Model\",\n",
    "           \"monte_carlo_runs\": 10,\n",
    "           \"use_seeds\": True,\n",
    "           \"param_values\": {\"index_return\": {\"type\": \"Expert Model\",\n",
    "                                             \"lambda\": .9,\n",
    "                          \"mu\": .015,\n",
    "                          \"std\": .1},\n",
    "                            \n",
    "         \"basket_return\": {\"type\": \"Expert Model\",\n",
    "                          \"mu\": .01,\n",
    "                           \"std\": .05}}}\n",
    "\n",
    "extrapolation_epochs = 25\n",
    "\n",
    "params_sf = [params1, params2]\n",
    "test_stochastic_fit = TestStochasticFit(params_sf)\n",
    "test_signal_extrapolation = TestSignalExtrapolation()\n",
    "test_extrapolation_model = ExtrapolationModel()\n",
    "\n",
    "arb_dt = ArbitrageDigitalTwin(name = \"Test\",\n",
    "                    data_pipeline = TestDataPipeline,\n",
    "                    backtest_model = TestBacktestModel,\n",
    "                    stochastic_fit = test_stochastic_fit,\n",
    "                    signal_extrapolation = test_signal_extrapolation,\n",
    "                    extrapolation_epochs = extrapolation_epochs,\n",
    "                    extrapolation_model = test_extrapolation_model)\n",
    "arb_dt.load_data_initial()\n",
    "arb_dt.compute_input_data()\n",
    "\n",
    "params_backtest = {}\n",
    "monte_carlo_runs_backtest = 1\n",
    "params_extrapolation = {}\n",
    "\n",
    "arb_dt.run_backtest(monte_carlo_runs_backtest, params_backtest)\n",
    "arb_dt.fit_stochastic_fit()\n",
    "arb_dt.extrapolate_signals()"
   ]
  },
  {
   "cell_type": "code",
   "execution_count": 12,
   "id": "13e31a8e",
   "metadata": {},
   "outputs": [
    {
     "name": "stdout",
     "output_type": "stream",
     "text": [
      "\n",
      "                  ___________    ____\n",
      "  ________ __ ___/ / ____/   |  / __ \\\n",
      " / ___/ __` / __  / /   / /| | / / / /\n",
      "/ /__/ /_/ / /_/ / /___/ ___ |/ /_/ /\n",
      "\\___/\\__,_/\\__,_/\\____/_/  |_/_____/\n",
      "by cadCAD\n",
      "\n",
      "cadCAD Version: 0.4.28\n",
      "Execution Mode: local_proc\n",
      "Simulation Dimensions:\n",
      "Entire Simulation: (Models, Unique Timesteps, Params, Total Runs, Sub-States) = (1, 25, 1, 20, 2)\n",
      "     Simulation 0: (Timesteps, Params, Runs, Sub-States) = (25, 1, 20, 2)\n",
      "Execution Method: local_simulations\n",
      "Execution Mode: parallelized\n"
     ]
    },
    {
     "ename": "IndexError",
     "evalue": "list index out of range",
     "output_type": "error",
     "traceback": [
      "\u001b[0;31m---------------------------------------------------------------------------\u001b[0m",
      "\u001b[0;31mRemoteTraceback\u001b[0m                           Traceback (most recent call last)",
      "\u001b[0;31mRemoteTraceback\u001b[0m: \n\"\"\"\nTraceback (most recent call last):\n  File \"/Users/seanmcowen/anaconda/envs/blockscience/lib/python3.9/site-packages/multiprocess/pool.py\", line 125, in worker\n    result = (True, func(*args, **kwds))\n  File \"/Users/seanmcowen/anaconda/envs/blockscience/lib/python3.9/site-packages/multiprocess/pool.py\", line 48, in mapstar\n    return list(map(*args))\n  File \"/Users/seanmcowen/anaconda/envs/blockscience/lib/python3.9/site-packages/pathos/helpers/mp_helper.py\", line 15, in <lambda>\n    func = lambda args: f(*args)\n  File \"/Users/seanmcowen/anaconda/envs/blockscience/lib/python3.9/site-packages/cadCAD/engine/execution.py\", line 91, in <lambda>\n    lambda t: t[0](t[1], t[2], t[3], t[4], t[5], t[6], t[7], t[8], t[9], configured_n), params\n  File \"/Users/seanmcowen/anaconda/envs/blockscience/lib/python3.9/site-packages/cadCAD/engine/simulation.py\", line 245, in simulation\n    [execute_run(sweep_dict, states_list, configs, env_processes, time_seq, run)]\n  File \"/Users/seanmcowen/anaconda/envs/blockscience/lib/python3.9/site-packages/cadCAD/engine/simulation.py\", line 237, in execute_run\n    first_timestep_per_run: List[Dict[str, Any]] = self.run_pipeline(\n  File \"/Users/seanmcowen/anaconda/envs/blockscience/lib/python3.9/site-packages/cadCAD/engine/simulation.py\", line 199, in run_pipeline\n    pipe_run: List[Dict[str, Any]] = self.state_update_pipeline(\n  File \"/Users/seanmcowen/anaconda/envs/blockscience/lib/python3.9/site-packages/cadCAD/engine/simulation.py\", line 174, in state_update_pipeline\n    states_list: List[Dict[str, Any]] = self.partial_state_update(\n  File \"/Users/seanmcowen/anaconda/envs/blockscience/lib/python3.9/site-packages/cadCAD/engine/simulation.py\", line 120, in partial_state_update\n    self.get_policy_input(sweep_dict, sub_step, sH, last_in_obj, policy_funcs, additional_objs)\n  File \"/Users/seanmcowen/anaconda/envs/blockscience/lib/python3.9/site-packages/cadCAD/engine/simulation.py\", line 55, in get_policy_input\n    col_results = get_col_results(sweep_dict, sub_step, sL, s, funcs)\n  File \"/Users/seanmcowen/anaconda/envs/blockscience/lib/python3.9/site-packages/cadCAD/engine/simulation.py\", line 42, in get_col_results\n    return list(map(lambda f: policy_scope_tuner(additional_objs, f), funcs))\n  File \"/Users/seanmcowen/anaconda/envs/blockscience/lib/python3.9/site-packages/cadCAD/engine/simulation.py\", line 42, in <lambda>\n    return list(map(lambda f: policy_scope_tuner(additional_objs, f), funcs))\n  File \"/Users/seanmcowen/anaconda/envs/blockscience/lib/python3.9/site-packages/cadCAD/engine/simulation.py\", line 39, in policy_scope_tuner\n    return f(sweep_dict, sub_step, sL, s)\n  File \"/Users/seanmcowen/Dropbox/BlockScience/DTWC/model2/mechanism/pure_returns.py\", line 12, in p_decode_return_input_extrapolation\n    returns = _params[\"input_data\"][t][\"returns\"]\nIndexError: list index out of range\n\"\"\"",
      "\nThe above exception was the direct cause of the following exception:\n",
      "\u001b[0;31mIndexError\u001b[0m                                Traceback (most recent call last)",
      "\u001b[0;32m<ipython-input-12-6ea9f5843672>\u001b[0m in \u001b[0;36m<module>\u001b[0;34m\u001b[0m\n\u001b[0;32m----> 1\u001b[0;31m \u001b[0marb_dt\u001b[0m\u001b[0;34m.\u001b[0m\u001b[0mrun_extrapolation\u001b[0m\u001b[0;34m(\u001b[0m\u001b[0;36m1\u001b[0m\u001b[0;34m,\u001b[0m \u001b[0mparams_extrapolation\u001b[0m\u001b[0;34m)\u001b[0m\u001b[0;34m\u001b[0m\u001b[0;34m\u001b[0m\u001b[0m\n\u001b[0m",
      "\u001b[0;32m~/Dropbox/BlockScience/DTWC/digital_twin/main.py\u001b[0m in \u001b[0;36mrun_extrapolation\u001b[0;34m(self, monte_carlo_runs, params)\u001b[0m\n\u001b[1;32m     79\u001b[0m         exp = self.extrapolation_model.load_config(monte_carlo_runs, timesteps,\n\u001b[1;32m     80\u001b[0m                                               params, initial_state)\n\u001b[0;32m---> 81\u001b[0;31m         \u001b[0mextrapolation_data\u001b[0m \u001b[0;34m=\u001b[0m \u001b[0mself\u001b[0m\u001b[0;34m.\u001b[0m\u001b[0mextrapolation_model\u001b[0m\u001b[0;34m.\u001b[0m\u001b[0mrun_model\u001b[0m\u001b[0;34m(\u001b[0m\u001b[0mexp\u001b[0m\u001b[0;34m)\u001b[0m\u001b[0;34m\u001b[0m\u001b[0;34m\u001b[0m\u001b[0m\n\u001b[0m\u001b[1;32m     82\u001b[0m         \u001b[0mextrapolation_data\u001b[0m \u001b[0;34m=\u001b[0m \u001b[0mself\u001b[0m\u001b[0;34m.\u001b[0m\u001b[0mextrapolation_model\u001b[0m\u001b[0;34m.\u001b[0m\u001b[0mpost_processing\u001b[0m\u001b[0;34m(\u001b[0m\u001b[0mextrapolation_data\u001b[0m\u001b[0;34m)\u001b[0m\u001b[0;34m\u001b[0m\u001b[0;34m\u001b[0m\u001b[0m\n\u001b[1;32m     83\u001b[0m         \u001b[0mself\u001b[0m\u001b[0;34m.\u001b[0m\u001b[0mextrapolation_data\u001b[0m \u001b[0;34m=\u001b[0m \u001b[0mextrapolation_data\u001b[0m\u001b[0;34m\u001b[0m\u001b[0;34m\u001b[0m\u001b[0m\n",
      "\u001b[0;32m<ipython-input-10-ab956230b150>\u001b[0m in \u001b[0;36mrun_model\u001b[0;34m(self, exp)\u001b[0m\n\u001b[1;32m     11\u001b[0m \u001b[0;34m\u001b[0m\u001b[0m\n\u001b[1;32m     12\u001b[0m     \u001b[0;32mdef\u001b[0m \u001b[0mrun_model\u001b[0m\u001b[0;34m(\u001b[0m\u001b[0mself\u001b[0m\u001b[0;34m,\u001b[0m \u001b[0mexp\u001b[0m\u001b[0;34m)\u001b[0m\u001b[0;34m:\u001b[0m\u001b[0;34m\u001b[0m\u001b[0;34m\u001b[0m\u001b[0m\n\u001b[0;32m---> 13\u001b[0;31m         \u001b[0mraw\u001b[0m \u001b[0;34m=\u001b[0m \u001b[0mrun\u001b[0m\u001b[0;34m(\u001b[0m\u001b[0mexp\u001b[0m\u001b[0;34m)\u001b[0m\u001b[0;34m\u001b[0m\u001b[0;34m\u001b[0m\u001b[0m\n\u001b[0m\u001b[1;32m     14\u001b[0m         \u001b[0;32mreturn\u001b[0m \u001b[0mraw\u001b[0m\u001b[0;34m\u001b[0m\u001b[0;34m\u001b[0m\u001b[0m\n\u001b[1;32m     15\u001b[0m \u001b[0;34m\u001b[0m\u001b[0m\n",
      "\u001b[0;32m~/Dropbox/BlockScience/DTWC/model2/run.py\u001b[0m in \u001b[0;36mrun\u001b[0;34m(exp)\u001b[0m\n\u001b[1;32m    111\u001b[0m     \u001b[0;31m#Run the simulation and convert to DataFrame\u001b[0m\u001b[0;34m\u001b[0m\u001b[0;34m\u001b[0m\u001b[0m\n\u001b[1;32m    112\u001b[0m     \u001b[0msim\u001b[0m \u001b[0;34m=\u001b[0m \u001b[0mExecutor\u001b[0m\u001b[0;34m(\u001b[0m\u001b[0mexec_context\u001b[0m\u001b[0;34m=\u001b[0m\u001b[0mlocal_mode_ctx\u001b[0m\u001b[0;34m,\u001b[0m \u001b[0mconfigs\u001b[0m\u001b[0;34m=\u001b[0m\u001b[0mexp\u001b[0m\u001b[0;34m.\u001b[0m\u001b[0mconfigs\u001b[0m\u001b[0;34m)\u001b[0m\u001b[0;34m\u001b[0m\u001b[0;34m\u001b[0m\u001b[0m\n\u001b[0;32m--> 113\u001b[0;31m     \u001b[0mraw_system_events\u001b[0m\u001b[0;34m,\u001b[0m \u001b[0mtensor_field\u001b[0m\u001b[0;34m,\u001b[0m \u001b[0msessions\u001b[0m \u001b[0;34m=\u001b[0m \u001b[0msim\u001b[0m\u001b[0;34m.\u001b[0m\u001b[0mexecute\u001b[0m\u001b[0;34m(\u001b[0m\u001b[0;34m)\u001b[0m\u001b[0;34m\u001b[0m\u001b[0;34m\u001b[0m\u001b[0m\n\u001b[0m\u001b[1;32m    114\u001b[0m     \u001b[0mdf\u001b[0m \u001b[0;34m=\u001b[0m \u001b[0mpd\u001b[0m\u001b[0;34m.\u001b[0m\u001b[0mDataFrame\u001b[0m\u001b[0;34m(\u001b[0m\u001b[0mraw_system_events\u001b[0m\u001b[0;34m)\u001b[0m\u001b[0;34m\u001b[0m\u001b[0;34m\u001b[0m\u001b[0m\n\u001b[1;32m    115\u001b[0m \u001b[0;34m\u001b[0m\u001b[0m\n",
      "\u001b[0;32m~/anaconda/envs/blockscience/lib/python3.9/site-packages/cadCAD/engine/__init__.py\u001b[0m in \u001b[0;36mexecute\u001b[0;34m(self)\u001b[0m\n\u001b[1;32m    150\u001b[0m \u001b[0;34m\u001b[0m\u001b[0m\n\u001b[1;32m    151\u001b[0m             \u001b[0mprint\u001b[0m\u001b[0;34m(\u001b[0m\u001b[0;34m\"Execution Method: \"\u001b[0m \u001b[0;34m+\u001b[0m \u001b[0mself\u001b[0m\u001b[0;34m.\u001b[0m\u001b[0mexec_method\u001b[0m\u001b[0;34m.\u001b[0m\u001b[0m__name__\u001b[0m\u001b[0;34m)\u001b[0m\u001b[0;34m\u001b[0m\u001b[0;34m\u001b[0m\u001b[0m\n\u001b[0;32m--> 152\u001b[0;31m             simulations_results = self.exec_method(\n\u001b[0m\u001b[1;32m    153\u001b[0m                 \u001b[0msim_executors\u001b[0m\u001b[0;34m,\u001b[0m \u001b[0mvar_dict_list\u001b[0m\u001b[0;34m,\u001b[0m \u001b[0mstates_lists\u001b[0m\u001b[0;34m,\u001b[0m \u001b[0mconfigs_structs\u001b[0m\u001b[0;34m,\u001b[0m \u001b[0menv_processes_list\u001b[0m\u001b[0;34m,\u001b[0m \u001b[0mTs\u001b[0m\u001b[0;34m,\u001b[0m \u001b[0mSimIDs\u001b[0m\u001b[0;34m,\u001b[0m \u001b[0mRunIDs\u001b[0m\u001b[0;34m,\u001b[0m\u001b[0;34m\u001b[0m\u001b[0;34m\u001b[0m\u001b[0m\n\u001b[1;32m    154\u001b[0m                 \u001b[0mExpIDs\u001b[0m\u001b[0;34m,\u001b[0m \u001b[0mSubsetIDs\u001b[0m\u001b[0;34m,\u001b[0m \u001b[0mSubsetWindows\u001b[0m\u001b[0;34m,\u001b[0m \u001b[0moriginal_N\u001b[0m\u001b[0;34m\u001b[0m\u001b[0;34m\u001b[0m\u001b[0m\n",
      "\u001b[0;32m~/anaconda/envs/blockscience/lib/python3.9/site-packages/cadCAD/engine/execution.py\u001b[0m in \u001b[0;36mlocal_simulations\u001b[0;34m(simulation_execs, var_dict_list, states_lists, configs_structs, env_processes_list, Ts, SimIDs, Ns, ExpIDs, SubsetIDs, SubsetWindows, configured_n)\u001b[0m\n\u001b[1;32m    129\u001b[0m     \u001b[0;32melif\u001b[0m \u001b[0mconfig_amt\u001b[0m \u001b[0;34m>\u001b[0m \u001b[0;36m1\u001b[0m\u001b[0;34m:\u001b[0m \u001b[0;31m# and configured_n != 1\u001b[0m\u001b[0;34m\u001b[0m\u001b[0;34m\u001b[0m\u001b[0m\n\u001b[1;32m    130\u001b[0m         \u001b[0m_params\u001b[0m \u001b[0;34m=\u001b[0m \u001b[0mvar_dict_list\u001b[0m\u001b[0;34m\u001b[0m\u001b[0;34m\u001b[0m\u001b[0m\n\u001b[0;32m--> 131\u001b[0;31m         return parallelize_simulations(\n\u001b[0m\u001b[1;32m    132\u001b[0m             \u001b[0msimulation_execs\u001b[0m\u001b[0;34m,\u001b[0m \u001b[0m_params\u001b[0m\u001b[0;34m,\u001b[0m \u001b[0mstates_lists\u001b[0m\u001b[0;34m,\u001b[0m \u001b[0mconfigs_structs\u001b[0m\u001b[0;34m,\u001b[0m \u001b[0menv_processes_list\u001b[0m\u001b[0;34m,\u001b[0m\u001b[0;34m\u001b[0m\u001b[0;34m\u001b[0m\u001b[0m\n\u001b[1;32m    133\u001b[0m             \u001b[0mTs\u001b[0m\u001b[0;34m,\u001b[0m \u001b[0mSimIDs\u001b[0m\u001b[0;34m,\u001b[0m \u001b[0mNs\u001b[0m\u001b[0;34m,\u001b[0m \u001b[0mExpIDs\u001b[0m\u001b[0;34m,\u001b[0m \u001b[0mSubsetIDs\u001b[0m\u001b[0;34m,\u001b[0m \u001b[0mSubsetWindows\u001b[0m\u001b[0;34m,\u001b[0m \u001b[0mconfigured_n\u001b[0m\u001b[0;34m\u001b[0m\u001b[0;34m\u001b[0m\u001b[0m\n",
      "\u001b[0;32m~/anaconda/envs/blockscience/lib/python3.9/site-packages/cadCAD/engine/execution.py\u001b[0m in \u001b[0;36mparallelize_simulations\u001b[0;34m(simulation_execs, var_dict_list, states_lists, configs_structs, env_processes_list, Ts, SimIDs, Ns, ExpIDs, SubsetIDs, SubsetWindows, configured_n)\u001b[0m\n\u001b[1;32m     99\u001b[0m         \u001b[0;32mreturn\u001b[0m \u001b[0mresults\u001b[0m\u001b[0;34m\u001b[0m\u001b[0;34m\u001b[0m\u001b[0m\n\u001b[1;32m    100\u001b[0m \u001b[0;34m\u001b[0m\u001b[0m\n\u001b[0;32m--> 101\u001b[0;31m     \u001b[0mresults\u001b[0m \u001b[0;34m=\u001b[0m \u001b[0mflatten\u001b[0m\u001b[0;34m(\u001b[0m\u001b[0mlist\u001b[0m\u001b[0;34m(\u001b[0m\u001b[0mmap\u001b[0m\u001b[0;34m(\u001b[0m\u001b[0;32mlambda\u001b[0m \u001b[0mparams\u001b[0m\u001b[0;34m:\u001b[0m \u001b[0mprocess_executor\u001b[0m\u001b[0;34m(\u001b[0m\u001b[0mparams\u001b[0m\u001b[0;34m)\u001b[0m\u001b[0;34m,\u001b[0m \u001b[0mnew_params\u001b[0m\u001b[0;34m)\u001b[0m\u001b[0;34m)\u001b[0m\u001b[0;34m)\u001b[0m\u001b[0;34m\u001b[0m\u001b[0;34m\u001b[0m\u001b[0m\n\u001b[0m\u001b[1;32m    102\u001b[0m \u001b[0;34m\u001b[0m\u001b[0m\n\u001b[1;32m    103\u001b[0m     \u001b[0;32mreturn\u001b[0m \u001b[0mresults\u001b[0m\u001b[0;34m\u001b[0m\u001b[0;34m\u001b[0m\u001b[0m\n",
      "\u001b[0;32m~/anaconda/envs/blockscience/lib/python3.9/site-packages/cadCAD/engine/execution.py\u001b[0m in \u001b[0;36m<lambda>\u001b[0;34m(params)\u001b[0m\n\u001b[1;32m     99\u001b[0m         \u001b[0;32mreturn\u001b[0m \u001b[0mresults\u001b[0m\u001b[0;34m\u001b[0m\u001b[0;34m\u001b[0m\u001b[0m\n\u001b[1;32m    100\u001b[0m \u001b[0;34m\u001b[0m\u001b[0m\n\u001b[0;32m--> 101\u001b[0;31m     \u001b[0mresults\u001b[0m \u001b[0;34m=\u001b[0m \u001b[0mflatten\u001b[0m\u001b[0;34m(\u001b[0m\u001b[0mlist\u001b[0m\u001b[0;34m(\u001b[0m\u001b[0mmap\u001b[0m\u001b[0;34m(\u001b[0m\u001b[0;32mlambda\u001b[0m \u001b[0mparams\u001b[0m\u001b[0;34m:\u001b[0m \u001b[0mprocess_executor\u001b[0m\u001b[0;34m(\u001b[0m\u001b[0mparams\u001b[0m\u001b[0;34m)\u001b[0m\u001b[0;34m,\u001b[0m \u001b[0mnew_params\u001b[0m\u001b[0;34m)\u001b[0m\u001b[0;34m)\u001b[0m\u001b[0;34m)\u001b[0m\u001b[0;34m\u001b[0m\u001b[0;34m\u001b[0m\u001b[0m\n\u001b[0m\u001b[1;32m    102\u001b[0m \u001b[0;34m\u001b[0m\u001b[0m\n\u001b[1;32m    103\u001b[0m     \u001b[0;32mreturn\u001b[0m \u001b[0mresults\u001b[0m\u001b[0;34m\u001b[0m\u001b[0;34m\u001b[0m\u001b[0m\n",
      "\u001b[0;32m~/anaconda/envs/blockscience/lib/python3.9/site-packages/cadCAD/engine/execution.py\u001b[0m in \u001b[0;36mprocess_executor\u001b[0;34m(params)\u001b[0m\n\u001b[1;32m     88\u001b[0m         \u001b[0;32mif\u001b[0m \u001b[0mlen_configs_structs\u001b[0m \u001b[0;34m>\u001b[0m \u001b[0;36m1\u001b[0m\u001b[0;34m:\u001b[0m\u001b[0;34m\u001b[0m\u001b[0;34m\u001b[0m\u001b[0m\n\u001b[1;32m     89\u001b[0m             \u001b[0mpp\u001b[0m \u001b[0;34m=\u001b[0m \u001b[0mPPool\u001b[0m\u001b[0;34m(\u001b[0m\u001b[0mprocesses\u001b[0m\u001b[0;34m=\u001b[0m\u001b[0mlen_configs_structs\u001b[0m\u001b[0;34m)\u001b[0m\u001b[0;34m\u001b[0m\u001b[0;34m\u001b[0m\u001b[0m\n\u001b[0;32m---> 90\u001b[0;31m             results = pp.map(\n\u001b[0m\u001b[1;32m     91\u001b[0m                 \u001b[0;32mlambda\u001b[0m \u001b[0mt\u001b[0m\u001b[0;34m:\u001b[0m \u001b[0mt\u001b[0m\u001b[0;34m[\u001b[0m\u001b[0;36m0\u001b[0m\u001b[0;34m]\u001b[0m\u001b[0;34m(\u001b[0m\u001b[0mt\u001b[0m\u001b[0;34m[\u001b[0m\u001b[0;36m1\u001b[0m\u001b[0;34m]\u001b[0m\u001b[0;34m,\u001b[0m \u001b[0mt\u001b[0m\u001b[0;34m[\u001b[0m\u001b[0;36m2\u001b[0m\u001b[0;34m]\u001b[0m\u001b[0;34m,\u001b[0m \u001b[0mt\u001b[0m\u001b[0;34m[\u001b[0m\u001b[0;36m3\u001b[0m\u001b[0;34m]\u001b[0m\u001b[0;34m,\u001b[0m \u001b[0mt\u001b[0m\u001b[0;34m[\u001b[0m\u001b[0;36m4\u001b[0m\u001b[0;34m]\u001b[0m\u001b[0;34m,\u001b[0m \u001b[0mt\u001b[0m\u001b[0;34m[\u001b[0m\u001b[0;36m5\u001b[0m\u001b[0;34m]\u001b[0m\u001b[0;34m,\u001b[0m \u001b[0mt\u001b[0m\u001b[0;34m[\u001b[0m\u001b[0;36m6\u001b[0m\u001b[0;34m]\u001b[0m\u001b[0;34m,\u001b[0m \u001b[0mt\u001b[0m\u001b[0;34m[\u001b[0m\u001b[0;36m7\u001b[0m\u001b[0;34m]\u001b[0m\u001b[0;34m,\u001b[0m \u001b[0mt\u001b[0m\u001b[0;34m[\u001b[0m\u001b[0;36m8\u001b[0m\u001b[0;34m]\u001b[0m\u001b[0;34m,\u001b[0m \u001b[0mt\u001b[0m\u001b[0;34m[\u001b[0m\u001b[0;36m9\u001b[0m\u001b[0;34m]\u001b[0m\u001b[0;34m,\u001b[0m \u001b[0mconfigured_n\u001b[0m\u001b[0;34m)\u001b[0m\u001b[0;34m,\u001b[0m \u001b[0mparams\u001b[0m\u001b[0;34m\u001b[0m\u001b[0;34m\u001b[0m\u001b[0m\n\u001b[1;32m     92\u001b[0m             )\n",
      "\u001b[0;32m~/anaconda/envs/blockscience/lib/python3.9/site-packages/pathos/multiprocessing.py\u001b[0m in \u001b[0;36mmap\u001b[0;34m(self, f, *args, **kwds)\u001b[0m\n\u001b[1;32m    137\u001b[0m         \u001b[0mAbstractWorkerPool\u001b[0m\u001b[0;34m.\u001b[0m\u001b[0m_AbstractWorkerPool__map\u001b[0m\u001b[0;34m(\u001b[0m\u001b[0mself\u001b[0m\u001b[0;34m,\u001b[0m \u001b[0mf\u001b[0m\u001b[0;34m,\u001b[0m \u001b[0;34m*\u001b[0m\u001b[0margs\u001b[0m\u001b[0;34m,\u001b[0m \u001b[0;34m**\u001b[0m\u001b[0mkwds\u001b[0m\u001b[0;34m)\u001b[0m\u001b[0;34m\u001b[0m\u001b[0;34m\u001b[0m\u001b[0m\n\u001b[1;32m    138\u001b[0m         \u001b[0m_pool\u001b[0m \u001b[0;34m=\u001b[0m \u001b[0mself\u001b[0m\u001b[0;34m.\u001b[0m\u001b[0m_serve\u001b[0m\u001b[0;34m(\u001b[0m\u001b[0;34m)\u001b[0m\u001b[0;34m\u001b[0m\u001b[0;34m\u001b[0m\u001b[0m\n\u001b[0;32m--> 139\u001b[0;31m         \u001b[0;32mreturn\u001b[0m \u001b[0m_pool\u001b[0m\u001b[0;34m.\u001b[0m\u001b[0mmap\u001b[0m\u001b[0;34m(\u001b[0m\u001b[0mstar\u001b[0m\u001b[0;34m(\u001b[0m\u001b[0mf\u001b[0m\u001b[0;34m)\u001b[0m\u001b[0;34m,\u001b[0m \u001b[0mzip\u001b[0m\u001b[0;34m(\u001b[0m\u001b[0;34m*\u001b[0m\u001b[0margs\u001b[0m\u001b[0;34m)\u001b[0m\u001b[0;34m)\u001b[0m \u001b[0;31m# chunksize\u001b[0m\u001b[0;34m\u001b[0m\u001b[0;34m\u001b[0m\u001b[0m\n\u001b[0m\u001b[1;32m    140\u001b[0m     \u001b[0mmap\u001b[0m\u001b[0;34m.\u001b[0m\u001b[0m__doc__\u001b[0m \u001b[0;34m=\u001b[0m \u001b[0mAbstractWorkerPool\u001b[0m\u001b[0;34m.\u001b[0m\u001b[0mmap\u001b[0m\u001b[0;34m.\u001b[0m\u001b[0m__doc__\u001b[0m\u001b[0;34m\u001b[0m\u001b[0;34m\u001b[0m\u001b[0m\n\u001b[1;32m    141\u001b[0m     \u001b[0;32mdef\u001b[0m \u001b[0mimap\u001b[0m\u001b[0;34m(\u001b[0m\u001b[0mself\u001b[0m\u001b[0;34m,\u001b[0m \u001b[0mf\u001b[0m\u001b[0;34m,\u001b[0m \u001b[0;34m*\u001b[0m\u001b[0margs\u001b[0m\u001b[0;34m,\u001b[0m \u001b[0;34m**\u001b[0m\u001b[0mkwds\u001b[0m\u001b[0;34m)\u001b[0m\u001b[0;34m:\u001b[0m\u001b[0;34m\u001b[0m\u001b[0;34m\u001b[0m\u001b[0m\n",
      "\u001b[0;32m~/anaconda/envs/blockscience/lib/python3.9/site-packages/multiprocess/pool.py\u001b[0m in \u001b[0;36mmap\u001b[0;34m(self, func, iterable, chunksize)\u001b[0m\n\u001b[1;32m    362\u001b[0m         \u001b[0;32min\u001b[0m \u001b[0ma\u001b[0m \u001b[0mlist\u001b[0m \u001b[0mthat\u001b[0m \u001b[0;32mis\u001b[0m \u001b[0mreturned\u001b[0m\u001b[0;34m.\u001b[0m\u001b[0;34m\u001b[0m\u001b[0;34m\u001b[0m\u001b[0m\n\u001b[1;32m    363\u001b[0m         '''\n\u001b[0;32m--> 364\u001b[0;31m         \u001b[0;32mreturn\u001b[0m \u001b[0mself\u001b[0m\u001b[0;34m.\u001b[0m\u001b[0m_map_async\u001b[0m\u001b[0;34m(\u001b[0m\u001b[0mfunc\u001b[0m\u001b[0;34m,\u001b[0m \u001b[0miterable\u001b[0m\u001b[0;34m,\u001b[0m \u001b[0mmapstar\u001b[0m\u001b[0;34m,\u001b[0m \u001b[0mchunksize\u001b[0m\u001b[0;34m)\u001b[0m\u001b[0;34m.\u001b[0m\u001b[0mget\u001b[0m\u001b[0;34m(\u001b[0m\u001b[0;34m)\u001b[0m\u001b[0;34m\u001b[0m\u001b[0;34m\u001b[0m\u001b[0m\n\u001b[0m\u001b[1;32m    365\u001b[0m \u001b[0;34m\u001b[0m\u001b[0m\n\u001b[1;32m    366\u001b[0m     \u001b[0;32mdef\u001b[0m \u001b[0mstarmap\u001b[0m\u001b[0;34m(\u001b[0m\u001b[0mself\u001b[0m\u001b[0;34m,\u001b[0m \u001b[0mfunc\u001b[0m\u001b[0;34m,\u001b[0m \u001b[0miterable\u001b[0m\u001b[0;34m,\u001b[0m \u001b[0mchunksize\u001b[0m\u001b[0;34m=\u001b[0m\u001b[0;32mNone\u001b[0m\u001b[0;34m)\u001b[0m\u001b[0;34m:\u001b[0m\u001b[0;34m\u001b[0m\u001b[0;34m\u001b[0m\u001b[0m\n",
      "\u001b[0;32m~/anaconda/envs/blockscience/lib/python3.9/site-packages/multiprocess/pool.py\u001b[0m in \u001b[0;36mget\u001b[0;34m(self, timeout)\u001b[0m\n\u001b[1;32m    769\u001b[0m             \u001b[0;32mreturn\u001b[0m \u001b[0mself\u001b[0m\u001b[0;34m.\u001b[0m\u001b[0m_value\u001b[0m\u001b[0;34m\u001b[0m\u001b[0;34m\u001b[0m\u001b[0m\n\u001b[1;32m    770\u001b[0m         \u001b[0;32melse\u001b[0m\u001b[0;34m:\u001b[0m\u001b[0;34m\u001b[0m\u001b[0;34m\u001b[0m\u001b[0m\n\u001b[0;32m--> 771\u001b[0;31m             \u001b[0;32mraise\u001b[0m \u001b[0mself\u001b[0m\u001b[0;34m.\u001b[0m\u001b[0m_value\u001b[0m\u001b[0;34m\u001b[0m\u001b[0;34m\u001b[0m\u001b[0m\n\u001b[0m\u001b[1;32m    772\u001b[0m \u001b[0;34m\u001b[0m\u001b[0m\n\u001b[1;32m    773\u001b[0m     \u001b[0;32mdef\u001b[0m \u001b[0m_set\u001b[0m\u001b[0;34m(\u001b[0m\u001b[0mself\u001b[0m\u001b[0;34m,\u001b[0m \u001b[0mi\u001b[0m\u001b[0;34m,\u001b[0m \u001b[0mobj\u001b[0m\u001b[0;34m)\u001b[0m\u001b[0;34m:\u001b[0m\u001b[0;34m\u001b[0m\u001b[0;34m\u001b[0m\u001b[0m\n",
      "\u001b[0;31mIndexError\u001b[0m: list index out of range"
     ]
    }
   ],
   "source": [
    "arb_dt.run_extrapolation(1, params_extrapolation)"
   ]
  },
  {
   "cell_type": "code",
   "execution_count": 15,
   "id": "2ab9cd8b",
   "metadata": {},
   "outputs": [
    {
     "data": {
      "text/plain": [
       "10"
      ]
     },
     "execution_count": 15,
     "metadata": {},
     "output_type": "execute_result"
    }
   ],
   "source": [
    "len(arb_dt.signals[0])"
   ]
  },
  {
   "cell_type": "code",
   "execution_count": 19,
   "id": "3277b041",
   "metadata": {},
   "outputs": [
    {
     "data": {
      "text/plain": [
       "(10, 25)"
      ]
     },
     "execution_count": 19,
     "metadata": {},
     "output_type": "execute_result"
    }
   ],
   "source": [
    "arb_dt.signals_raw[0]['basket_return'].shape"
   ]
  },
  {
   "cell_type": "code",
   "execution_count": null,
   "id": "6c5448f6",
   "metadata": {},
   "outputs": [],
   "source": []
  }
 ],
 "metadata": {
  "kernelspec": {
   "display_name": "Python 3",
   "language": "python",
   "name": "python3"
  },
  "language_info": {
   "codemirror_mode": {
    "name": "ipython",
    "version": 3
   },
   "file_extension": ".py",
   "mimetype": "text/x-python",
   "name": "python",
   "nbconvert_exporter": "python",
   "pygments_lexer": "ipython3",
   "version": "3.9.12"
  }
 },
 "nbformat": 4,
 "nbformat_minor": 5
}
