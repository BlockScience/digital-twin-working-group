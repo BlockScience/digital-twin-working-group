{
 "cells": [
  {
   "cell_type": "markdown",
   "id": "535e9cb2",
   "metadata": {},
   "source": [
    "# Executive Summary\n",
    "\n",
    "This full example is meant to implement how the digital twin abstract class is supposed to be useful and work. It will show what needs to be done on the model end as well as what gets used on the digital twin abstract class end.\n",
    "\n",
    "The directory for this model is \"model2\"\n",
    "\n",
    "Everything here would be what should be going into a dt.py file that would create the digital twin framework."
   ]
  },
  {
   "cell_type": "markdown",
   "id": "0a506995",
   "metadata": {},
   "source": [
    "# 1. Data Pipelines\n",
    "\n",
    "# Model Specific\n",
    "\n",
    "## Types\n",
    "\n",
    "Under types, there is definitions for all types that are to be used in the system. Copious typing should be done, and for all data types with both raw/processed there should be a type.\n",
    "\n",
    "## Data\n",
    "\n",
    "While there is data processing functions, these are supposed to be light data functions and any hardcode data processing should be through a data infrastructure. The functions will be of the following categories, where N is a variable number of data pulls, and brackets will show how many of any given type there should be.\n",
    "\n",
    "1. [1+] Data Connection Method: A method for how to connect to the database. Input: None Output: Connection\n",
    "2. [N] Raw Data Pulls: Pulls that directly hit the data infrastructure held database tables. Input: Connection Output: Raw Data Type\n",
    "3. [N] Data Processing: Any light data processing such as doing pivots since holding a pivot table would be space ineffecient on the SQL side. Input: Raw Data Type Output: Processed Data Type\n",
    "4. [1] Backtest Data Pull: A pull that combines all raw pulls and data processing pulls, plus connects to the database and returns a Backtest Data Type. Input: None Output: Backtest Data Type\n",
    "5. [1] Input Data Computation: A processing function that takes backtest data and then returns starting state, the historical data, the input data (what goes into the backtest) and the output data (what is being used to validate the backtest). Input: Backtest Data Type Output: Input Data Type\n",
    "6. [1] Format Inputs: One function which takes the input data and formats the input into data classes for use within cadCAD.\n",
    "\n",
    "# Digital Twin Specific\n",
    "\n",
    "1. A DataPipeline class should be made which fills out pull_historical_data, compute_input_data, format_input_data corresponding to the functions defined above.\n",
    "2. A function of load_data_initial should be made in the DT class which specifies how to save down pulled data. This can be csv, pickle, etc. \n",
    "3. A function of load_data_prior should be made in the DT class which specifies how to pull back old data used."
   ]
  },
  {
   "cell_type": "code",
   "execution_count": 1,
   "id": "302a315a",
   "metadata": {},
   "outputs": [],
   "source": [
    "import digital_twin\n",
    "from model2.data import pull_backtest_data, create_input_data, format_inputs\n",
    "from model2.types import BacktestData\n",
    "\n",
    "class ArbitrageDataPipeline(digital_twin.DataPipeline):\n",
    "    \n",
    "    def pull_historical_data(self):\n",
    "        return pull_backtest_data()\n",
    "    \n",
    "    def compute_input_data(self, data):\n",
    "        return create_input_data(data)\n",
    "    \n",
    "    def format_input_data(self, data):\n",
    "        return format_inputs(data)\n",
    "\n",
    "class ArbitrageDigitalTwin(digital_twin.DigitalTwin):\n",
    "    \n",
    "    def load_data_initial(self):\n",
    "        self.historical_data = self.data_pipeline.pull_historical_data()\n",
    "        \n",
    "        self.historical_data.pure_returns.to_csv(\"pure_returns.csv\")\n",
    "        self.historical_data.prices_data.to_csv(\"prices_data.csv\")\n",
    "        self.historical_data.trades_data.to_csv(\"trades_data.csv\")\n",
    "    \n",
    "    def load_data_prior(self):\n",
    "        pure_returns = pd.read_csv(\"pure_returns.csv\", index_col = 0)\n",
    "        prices_data = pd.read_csv(\"prices_data.csv\", index_col = 0)\n",
    "        trades_data = pd.read_csv(\"trades_data.csv\", index_col = 0)\n",
    "        \n",
    "        self.historical_data = BacktestData(pure_returns = pure_returns_data, \n",
    "                        prices_data = prices_data,\n",
    "                        trades_data = trades_data)"
   ]
  },
  {
   "cell_type": "code",
   "execution_count": 2,
   "id": "51163a8d",
   "metadata": {},
   "outputs": [],
   "source": [
    "TestDataPipeline = ArbitrageDataPipeline()\n",
    "arb_dt = ArbitrageDigitalTwin(name = \"Test\",\n",
    "                    data_pipeline = TestDataPipeline)\n",
    "arb_dt.load_data_initial()\n",
    "arb_dt.compute_input_data()"
   ]
  },
  {
   "cell_type": "markdown",
   "id": "11a890ad",
   "metadata": {},
   "source": [
    "# 2. Backtest Model\n",
    "\n",
    "# Model Specific\n",
    "\n",
    "## Partial State Update Blocks\n",
    "\n",
    "- The file of psub.py holds all the partial state update blocks. There is distinction between the backtesting based blocks and the extrapolation based blocks.\n",
    "\n",
    "## Run \n",
    "\n",
    "This file has a few functionalities to be built.\n",
    "\n",
    "1. load_config_backtest: This function is meant to load up the configuration for backtesting."
   ]
  },
  {
   "cell_type": "code",
   "execution_count": 6,
   "id": "8d011494",
   "metadata": {},
   "outputs": [
    {
     "ename": "ImportError",
     "evalue": "cannot import name 'p_decode_return_input_backtest' from 'model.parts.mechanism.pure_returns' (/Users/seanmcowen/Dropbox/BlockScience/DTWC/model/parts/mechanism/pure_returns.py)",
     "output_type": "error",
     "traceback": [
      "\u001b[0;31m---------------------------------------------------------------------------\u001b[0m",
      "\u001b[0;31mImportError\u001b[0m                               Traceback (most recent call last)",
      "\u001b[0;32m<ipython-input-6-b81c43967da1>\u001b[0m in \u001b[0;36m<module>\u001b[0;34m\u001b[0m\n\u001b[0;32m----> 1\u001b[0;31m \u001b[0;32mfrom\u001b[0m \u001b[0mmodel2\u001b[0m\u001b[0;34m.\u001b[0m\u001b[0mrun\u001b[0m \u001b[0;32mimport\u001b[0m \u001b[0mload_config_backtest\u001b[0m\u001b[0;34m\u001b[0m\u001b[0;34m\u001b[0m\u001b[0m\n\u001b[0m",
      "\u001b[0;32m~/Dropbox/BlockScience/DTWC/model2/run.py\u001b[0m in \u001b[0;36m<module>\u001b[0;34m\u001b[0m\n\u001b[1;32m      1\u001b[0m \u001b[0;32mimport\u001b[0m \u001b[0mpandas\u001b[0m \u001b[0;32mas\u001b[0m \u001b[0mpd\u001b[0m\u001b[0;34m\u001b[0m\u001b[0;34m\u001b[0m\u001b[0m\n\u001b[0;32m----> 2\u001b[0;31m \u001b[0;32mfrom\u001b[0m \u001b[0;34m.\u001b[0m\u001b[0mpsub\u001b[0m \u001b[0;32mimport\u001b[0m \u001b[0mbacktest_psub\u001b[0m\u001b[0;34m\u001b[0m\u001b[0;34m\u001b[0m\u001b[0m\n\u001b[0m\u001b[1;32m      3\u001b[0m \u001b[0;32mfrom\u001b[0m \u001b[0;34m.\u001b[0m\u001b[0mtypes\u001b[0m \u001b[0;32mimport\u001b[0m \u001b[0mstarting_state\u001b[0m\u001b[0;34m\u001b[0m\u001b[0;34m\u001b[0m\u001b[0m\n\u001b[1;32m      4\u001b[0m \u001b[0;32mfrom\u001b[0m \u001b[0mcadCAD\u001b[0m\u001b[0;34m.\u001b[0m\u001b[0mengine\u001b[0m \u001b[0;32mimport\u001b[0m \u001b[0mExecutionMode\u001b[0m\u001b[0;34m,\u001b[0m \u001b[0mExecutionContext\u001b[0m\u001b[0;34m,\u001b[0m \u001b[0mExecutor\u001b[0m\u001b[0;34m\u001b[0m\u001b[0;34m\u001b[0m\u001b[0m\n\u001b[1;32m      5\u001b[0m \u001b[0;32mfrom\u001b[0m \u001b[0mcadCAD\u001b[0m \u001b[0;32mimport\u001b[0m \u001b[0mconfigs\u001b[0m\u001b[0;34m\u001b[0m\u001b[0;34m\u001b[0m\u001b[0m\n",
      "\u001b[0;32m~/Dropbox/BlockScience/DTWC/model2/psub.py\u001b[0m in \u001b[0;36m<module>\u001b[0;34m\u001b[0m\n\u001b[0;32m----> 1\u001b[0;31m \u001b[0;32mfrom\u001b[0m \u001b[0mmodel\u001b[0m\u001b[0;34m.\u001b[0m\u001b[0mparts\u001b[0m\u001b[0;34m.\u001b[0m\u001b[0mmechanism\u001b[0m\u001b[0;34m.\u001b[0m\u001b[0mpure_returns\u001b[0m \u001b[0;32mimport\u001b[0m \u001b[0mp_decode_return_input_backtest\u001b[0m\u001b[0;34m,\u001b[0m \u001b[0ms_pure_return\u001b[0m\u001b[0;34m\u001b[0m\u001b[0;34m\u001b[0m\u001b[0m\n\u001b[0m\u001b[1;32m      2\u001b[0m \u001b[0;34m\u001b[0m\u001b[0m\n\u001b[1;32m      3\u001b[0m \u001b[0;34m\u001b[0m\u001b[0m\n\u001b[1;32m      4\u001b[0m price_update_block_backtest = {\n\u001b[1;32m      5\u001b[0m         'policies': {\n",
      "\u001b[0;31mImportError\u001b[0m: cannot import name 'p_decode_return_input_backtest' from 'model.parts.mechanism.pure_returns' (/Users/seanmcowen/Dropbox/BlockScience/DTWC/model/parts/mechanism/pure_returns.py)"
     ]
    }
   ],
   "source": [
    "from model2.run import load_config_backtest"
   ]
  },
  {
   "cell_type": "code",
   "execution_count": null,
   "id": "3657dddb",
   "metadata": {},
   "outputs": [],
   "source": []
  }
 ],
 "metadata": {
  "kernelspec": {
   "display_name": "Python 3",
   "language": "python",
   "name": "python3"
  },
  "language_info": {
   "codemirror_mode": {
    "name": "ipython",
    "version": 3
   },
   "file_extension": ".py",
   "mimetype": "text/x-python",
   "name": "python",
   "nbconvert_exporter": "python",
   "pygments_lexer": "ipython3",
   "version": "3.9.12"
  }
 },
 "nbformat": 4,
 "nbformat_minor": 5
}
