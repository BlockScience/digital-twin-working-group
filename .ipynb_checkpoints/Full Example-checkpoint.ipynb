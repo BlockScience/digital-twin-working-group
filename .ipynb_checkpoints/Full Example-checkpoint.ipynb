{
 "cells": [
  {
   "cell_type": "markdown",
   "id": "95511eaa",
   "metadata": {},
   "source": [
    "# Executive Summary\n",
    "\n",
    "This full example is meant to implement how the digital twin abstract class is supposed to be useful and work. It will show what needs to be done on the model end as well as what gets used on the digital twin abstract class end.\n",
    "\n",
    "The directory for this model is \"model2\"\n",
    "\n",
    "# Model Specific\n",
    "\n",
    "## Types\n",
    "\n",
    "Under types, there is definitions for all types that are to be used in the system. Copious typing should be done, and for all data types with both raw/processed there should be a type.\n",
    "\n",
    "## Data\n",
    "\n",
    "While there is data processing functions, these are supposed to be light data functions and any hardcode data processing should be through a data infrastructure. The functions will be of the following categories, where N is a variable number of data pulls, and brackets will show how many of any given type there should be.\n",
    "\n",
    "1. [1+] Data Connection Method: A method for how to connect to the database. Input: None Output: Connection\n",
    "2. [N] Raw Data Pulls: Pulls that directly hit the data infrastructure held database tables. Input: Connection Output: Raw Data Type\n",
    "3. [N] Data Processing: Any light data processing such as doing pivots since holding a pivot table would be space ineffecient on the SQL side. Input: Raw Data Type Output: Processed Data Type\n",
    "4. [1] Backtest Data Pull: A pull that combines all raw pulls and data processing pulls, plus connects to the database and returns a Backtest Data Type. Input: None Output: Backtest Data Type\n",
    "5. [1] Input Data Computation: A processing function that takes backtest data and then returns starting state, the historical data, the input data (what goes into the backtest) and the output data (what is being used to validate the backtest). Input: Backtest Data Type Output: Input Data Type\n",
    "6. [1] Format Inputs: One function which takes the input data and formats the input into data classes for use within cadCAD."
   ]
  },
  {
   "cell_type": "code",
   "execution_count": 5,
   "id": "a2dc3f98",
   "metadata": {},
   "outputs": [],
   "source": [
    "from model2.data import pull_backtest_data, create_input_data, format_inputs"
   ]
  },
  {
   "cell_type": "code",
   "execution_count": 6,
   "id": "8cd8c4fb",
   "metadata": {},
   "outputs": [],
   "source": [
    "backtest_data = pull_backtest_data()"
   ]
  },
  {
   "cell_type": "code",
   "execution_count": 7,
   "id": "b2078565",
   "metadata": {},
   "outputs": [],
   "source": [
    "input_data = create_input_data(backtest_data)"
   ]
  },
  {
   "cell_type": "code",
   "execution_count": 8,
   "id": "d935c5b6",
   "metadata": {},
   "outputs": [],
   "source": [
    "input_data_model = format_inputs(input_data)"
   ]
  },
  {
   "cell_type": "code",
   "execution_count": null,
   "id": "b17b0524",
   "metadata": {},
   "outputs": [],
   "source": []
  }
 ],
 "metadata": {
  "kernelspec": {
   "display_name": "Python 3",
   "language": "python",
   "name": "python3"
  },
  "language_info": {
   "codemirror_mode": {
    "name": "ipython",
    "version": 3
   },
   "file_extension": ".py",
   "mimetype": "text/x-python",
   "name": "python",
   "nbconvert_exporter": "python",
   "pygments_lexer": "ipython3",
   "version": "3.9.12"
  }
 },
 "nbformat": 4,
 "nbformat_minor": 5
}
