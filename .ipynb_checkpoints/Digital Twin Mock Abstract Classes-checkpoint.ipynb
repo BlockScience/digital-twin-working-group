{
 "cells": [
  {
   "cell_type": "markdown",
   "metadata": {},
   "source": [
    "# Digital Twin Abstract Classes\n",
    "\n",
    "Goal: To build out the first iteration of abstract classes for the digital twin framework.\n",
    "\n",
    "## Development Roadmap\n",
    "\n",
    "1. Build the most basic version which only takes mock data at every step and does not actually run a cadCAD simulation just to link up the pieces.\n",
    "2. Integrate in an actual cadCAD model with some form of dummy data.\n",
    "3. Add typing to all of the functions.\n",
    "4. Build in the notebook creation piece.\n",
    "5. Iterate on improvements.\n",
    "\n",
    "## Current Implementation\n",
    "\n",
    "The current implementation will walk through each of the underlying abstract classes and how they work with ultra-simplistic examples. Then it will be shown how these all could feed up into the full digital twin class. "
   ]
  },
  {
   "cell_type": "code",
   "execution_count": 1,
   "metadata": {},
   "outputs": [],
   "source": [
    "from abc import ABC, abstractmethod\n",
    "import pandas as pd\n",
    "import numpy as np"
   ]
  },
  {
   "cell_type": "markdown",
   "metadata": {},
   "source": [
    "## Data Pipelines\n",
    "\n",
    "The data pipelines presented here are the idea that there should be one interface that pulls all historical data. At the moment it just returns a pandas dataframe but we might expect multiple outputs from the data pipeline. The two main pieces are:\n",
    "\n",
    "1. Pull Historical Data: The interface for getting all the needed historical data (will have start_date, end_date, etc eventually)\n",
    "2. Compute Input Data: The interface which converts the data into the form used within the inputs such as any use of data classes"
   ]
  },
  {
   "cell_type": "code",
   "execution_count": 2,
   "metadata": {},
   "outputs": [
    {
     "name": "stdout",
     "output_type": "stream",
     "text": [
      "    C1  C2  C3  C4  C5\n",
      "T1   0   1   2   3   4\n",
      "T2   5   6   7   8   9\n",
      "T3  10  11  12  13  14\n"
     ]
    }
   ],
   "source": [
    "class DataPipeline(ABC):\n",
    "    @abstractmethod\n",
    "    def pull_historical_data(self):\n",
    "        pass\n",
    "    \n",
    "    @abstractmethod\n",
    "    def compute_input_data(self, data):\n",
    "        pass\n",
    "    \n",
    "\n",
    "class TestDataPipeline(DataPipeline):\n",
    "    def pull_historical_data(self):\n",
    "        return pd.DataFrame([list(range(5)),\n",
    "                            list(range(5,10)),\n",
    "                            list(range(10, 15))], index=[\"T1\", \"T2\", \"T3\"],\n",
    "                           columns=[\"C1\", \"C2\", \"C3\", \"C4\", \"C5\"])\n",
    "    \n",
    "    def compute_input_data(self, data):\n",
    "        return data.copy()\n",
    "    \n",
    "test_pipeline = TestDataPipeline()\n",
    "historical_data = test_pipeline.pull_historical_data()\n",
    "input_data = test_pipeline.compute_input_data(historical_data)\n",
    "print(historical_data)"
   ]
  },
  {
   "cell_type": "markdown",
   "metadata": {},
   "source": [
    "## Backtest Model\n",
    "\n",
    "The backtest model will be the cadCAD model to run with the input data. It will have the interface of the run_model function to actually run the model, and the post_processing function to do any data processing at the end. The params assigned will be used within the actual cadCAD run."
   ]
  },
  {
   "cell_type": "code",
   "execution_count": 3,
   "metadata": {},
   "outputs": [],
   "source": [
    "class BacktestModel(ABC):\n",
    "    \n",
    "    def __init__(self, params):\n",
    "        self.params = params\n",
    "    \n",
    "    @abstractmethod\n",
    "    def run_model(self, input_data):\n",
    "        pass\n",
    "    \n",
    "    @abstractmethod\n",
    "    def post_processing(self, backtest_data):\n",
    "        pass\n",
    "    \n",
    "    \n",
    "class TestBacktestModel(BacktestModel):\n",
    "    \n",
    "    def run_model(self, input_data):\n",
    "        return input_data + .5\n",
    "    \n",
    "    def post_processing(self, backtest_data):\n",
    "        backtest_data[\"Sum\"] = backtest_data.sum(axis=1)\n",
    "        return backtest_data"
   ]
  },
  {
   "cell_type": "code",
   "execution_count": 4,
   "metadata": {},
   "outputs": [
    {
     "name": "stdout",
     "output_type": "stream",
     "text": [
      "      C1    C2    C3    C4    C5   Sum\n",
      "T1   0.5   1.5   2.5   3.5   4.5  12.5\n",
      "T2   5.5   6.5   7.5   8.5   9.5  37.5\n",
      "T3  10.5  11.5  12.5  13.5  14.5  62.5\n"
     ]
    }
   ],
   "source": [
    "test_backtest_model = TestBacktestModel({})\n",
    "backtest_data = test_backtest_model.run_model(input_data)\n",
    "backtest_data = test_backtest_model.post_processing(backtest_data)\n",
    "print(backtest_data)"
   ]
  },
  {
   "cell_type": "markdown",
   "metadata": {},
   "source": [
    "## Stochastic Fit\n",
    "\n",
    "The stochastic fit does any fitting to the data for different signals which might be utilizing them. In this case we show simple mean and standard deviation fits."
   ]
  },
  {
   "cell_type": "code",
   "execution_count": 5,
   "metadata": {},
   "outputs": [
    {
     "name": "stdout",
     "output_type": "stream",
     "text": [
      "{'C1': {'mu': 5.0, 'std': 5.0}, 'C2': {'mu': 6.0, 'std': 5.0}, 'C3': {'mu': 7.0, 'std': 5.0}, 'C4': {'mu': 8.0, 'std': 5.0}, 'C5': {'mu': 9.0, 'std': 5.0}}\n"
     ]
    }
   ],
   "source": [
    "class StochasticFit(ABC):\n",
    "    \n",
    "    def __init__(self, params):\n",
    "        self.params = params\n",
    "        \n",
    "    @abstractmethod\n",
    "    def fit_data(self, data):\n",
    "        pass\n",
    "    \n",
    "class TestStochasticFit(StochasticFit):\n",
    "    \n",
    "    def fit_data(self, data):\n",
    "        return {\"C1\": {\"mu\": data[\"C1\"].mean(),\n",
    "                      \"std\": data[\"C1\"].std()},\n",
    "                \"C2\": {\"mu\": data[\"C2\"].mean(),\n",
    "                      \"std\": data[\"C2\"].std()},\n",
    "               \"C3\": {\"mu\": data[\"C3\"].mean(),\n",
    "                      \"std\": data[\"C3\"].std()},\n",
    "               \"C4\": {\"mu\": data[\"C4\"].mean(),\n",
    "                      \"std\": data[\"C4\"].std()},\n",
    "               \"C5\": {\"mu\": data[\"C5\"].mean(),\n",
    "                      \"std\": data[\"C5\"].std()},}\n",
    "    \n",
    "    \n",
    "test_stochastic_fit = TestStochasticFit({})\n",
    "stochastic_params = test_stochastic_fit.fit_data(input_data)\n",
    "print(stochastic_params)"
   ]
  },
  {
   "cell_type": "markdown",
   "metadata": {},
   "source": [
    "## Signal Extrapolation\n",
    "\n",
    "Signal extrapolation is the interface to coming up with random signals for different extrapolation events. Here we randomly project forward n days for each signal."
   ]
  },
  {
   "cell_type": "code",
   "execution_count": 6,
   "metadata": {},
   "outputs": [
    {
     "name": "stdout",
     "output_type": "stream",
     "text": [
      "{'C1': array([ 9.58413914,  1.39255244,  5.23320449,  4.37961298,  2.73270294,\n",
      "       -0.10479463,  2.72352788]), 'C2': array([12.94649946, -1.61634925,  1.88287901,  7.34280497,  5.97427359,\n",
      "       -1.9425124 ,  7.19490357]), 'C3': array([13.28440941, 16.0103824 ,  4.59200607,  5.95395151,  7.3055431 ,\n",
      "        2.31404291, 12.9672244 ]), 'C4': array([ 8.49471157,  5.82565193, 10.41664844,  3.75246765,  6.7767954 ,\n",
      "       16.90095682, 16.68198133]), 'C5': array([-0.38094331, 10.07700446,  8.24680504,  9.55526326,  9.27349946,\n",
      "       15.3955687 ,  5.93084954])}\n"
     ]
    }
   ],
   "source": [
    "class SignalExtrapolation(ABC):\n",
    "    \n",
    "    @abstractmethod\n",
    "    def extrapolate_signals(self, stochastic_params, n):\n",
    "        pass\n",
    "\n",
    "class TestSignalExtrapolation(SignalExtrapolation):\n",
    "    def extrapolate_signals(self, stochastic_params, n):\n",
    "        signals = {}\n",
    "        for key in stochastic_params.keys():\n",
    "            signals[key] = np.random.normal(stochastic_params[key][\"mu\"], stochastic_params[key][\"std\"], n)\n",
    "        return signals\n",
    "\n",
    "test_signal_extrapolation = TestSignalExtrapolation()\n",
    "signals = test_signal_extrapolation.extrapolate_signals(stochastic_params, 7)\n",
    "print(signals)"
   ]
  },
  {
   "cell_type": "markdown",
   "metadata": {},
   "source": [
    "## Extrapolation Simulation\n",
    "\n",
    "The extrapolation simulation takes the signals, backtest data, etc and runs a cadCAD model for future projection. While this will be linked to a cadCAD model in the future, for this simple illustration we will use a simple function to compute the data."
   ]
  },
  {
   "cell_type": "code",
   "execution_count": 7,
   "metadata": {},
   "outputs": [],
   "source": [
    "class ExtrapolationModel(ABC):\n",
    "    \n",
    "    def __init__(self, params):\n",
    "        self.params = params\n",
    "    \n",
    "    @abstractmethod\n",
    "    def run_model(self, signals, historical_data):\n",
    "        pass\n",
    "    \n",
    "    @abstractmethod\n",
    "    def post_processing(self, extrapolation_data):\n",
    "        pass\n",
    "\n",
    "class TestExtrapolation(ExtrapolationModel):\n",
    "    def run_model(self, signals, historical_data):\n",
    "        return pd.DataFrame(signals, index=[\"T4\", \"T5\", \"T6\", \"T7\", \"T8\", \"T9\", \"T10\"]) * .9\n",
    "    def post_processing(self, extrapolation_data):\n",
    "        extrapolation_data[\"Sum\"] = extrapolation_data.sum(axis=1)\n",
    "        return extrapolation_data"
   ]
  },
  {
   "cell_type": "code",
   "execution_count": 8,
   "metadata": {},
   "outputs": [
    {
     "name": "stdout",
     "output_type": "stream",
     "text": [
      "           C1         C2         C3         C4         C5        Sum\n",
      "T4   8.625725  11.651850  11.955968   7.645240  -0.342849  39.535935\n",
      "T5   1.253297  -1.454714  14.409344   5.243087   9.069304  28.520318\n",
      "T6   4.709884   1.694591   4.132805   9.374984   7.422125  27.334389\n",
      "T7   3.941652   6.608524   5.358556   3.377221   8.599737  27.885690\n",
      "T8   2.459433   5.376846   6.574989   6.099116   8.346150  28.856533\n",
      "T9  -0.094315  -1.748261   2.082639  15.210861  13.856012  29.306935\n",
      "T10  2.451175   6.475413  11.670502  15.013783   5.337765  40.948638\n"
     ]
    }
   ],
   "source": [
    "test_extrapolation_model = TestExtrapolation({})\n",
    "extrapolation_data = test_extrapolation_model.run_model(signals, historical_data)\n",
    "extrapolation_data = test_backtest_model.post_processing(extrapolation_data)\n",
    "print(extrapolation_data)"
   ]
  },
  {
   "cell_type": "markdown",
   "metadata": {},
   "source": [
    "## Reporting Module \n",
    "\n",
    "The reporting module takes the data and creates the reports. In the long term there will be the papermill jupyter notebook integrations, but for now we just show a simple comparison of values for one of the columns."
   ]
  },
  {
   "cell_type": "code",
   "execution_count": 9,
   "metadata": {},
   "outputs": [
    {
     "name": "stderr",
     "output_type": "stream",
     "text": [
      "/Users/seanmcowen/anaconda/envs/FinanceAndPython/lib/python3.8/site-packages/pandas/plotting/_matplotlib/core.py:1192: UserWarning: FixedFormatter should only be used together with FixedLocator\n",
      "  ax.set_xticklabels(xticklabels)\n"
     ]
    },
    {
     "data": {
      "image/png": "[encoded data removed]",
      "text/plain": [
       "<Figure size 432x288 with 1 Axes>"
      ]
     },
     "metadata": {
      "needs_background": "light"
     },
     "output_type": "display_data"
    }
   ],
   "source": [
    "import matplotlib.pyplot as plt\n",
    "class ReportingModule(ABC):\n",
    "    \n",
    "    @abstractmethod\n",
    "    def graph_backtest_difference(self, historical_data, backtest_data):\n",
    "        pass\n",
    "    \n",
    "class TestReportingModule(ReportingModule):\n",
    "    \n",
    "    def graph_backtest_difference(self, historical_data, backtest_data):\n",
    "        historical_data[\"C1\"].plot(kind='line')\n",
    "        backtest_data[\"C1\"].plot(kind='line')\n",
    "        plt.show()\n",
    "        \n",
    "test_reporting_module = TestReportingModule()\n",
    "test_reporting_module.graph_backtest_difference(historical_data, backtest_data)"
   ]
  },
  {
   "cell_type": "markdown",
   "metadata": {},
   "source": [
    "## Digital Twin Abstract Class"
   ]
  },
  {
   "cell_type": "code",
   "execution_count": 10,
   "metadata": {},
   "outputs": [
    {
     "name": "stderr",
     "output_type": "stream",
     "text": [
      "/Users/seanmcowen/anaconda/envs/FinanceAndPython/lib/python3.8/site-packages/pandas/plotting/_matplotlib/core.py:1192: UserWarning: FixedFormatter should only be used together with FixedLocator\n",
      "  ax.set_xticklabels(xticklabels)\n"
     ]
    },
    {
     "data": {
      "image/png": "[encoded data removed]",
      "text/plain": [
       "<Figure size 432x288 with 1 Axes>"
      ]
     },
     "metadata": {
      "needs_background": "light"
     },
     "output_type": "display_data"
    }
   ],
   "source": [
    "class DigitalTwin(ABC):\n",
    "    \n",
    "    def __init__(self, name, data_pipeline, backtest_model, stochastic_fit,\n",
    "                signal_extrapolation, extrapolation_model, reporting_module,\n",
    "                extrapolation_epochs = 7):\n",
    "        self.name = name\n",
    "        self.extrapolation_epochs = extrapolation_epochs\n",
    "        \n",
    "        self.data_pipeline = data_pipeline\n",
    "        self.backtest_model = backtest_model\n",
    "        self.stochastic_fit = stochastic_fit\n",
    "        self.signal_extrapolation = signal_extrapolation\n",
    "        self.extrapolation_model = extrapolation_model\n",
    "        self.reporting_module = reporting_module\n",
    "        \n",
    "        self.historical_data = None\n",
    "        self.input_data = None\n",
    "        self.backtest_data = None\n",
    "        self.stochastic_fit_params = None\n",
    "        self.signals = None\n",
    "        self.extrapolation_data = None\n",
    "        \n",
    "    \n",
    "    @abstractmethod\n",
    "    def load_data_initial(self):\n",
    "        pass\n",
    "    \n",
    "    @abstractmethod\n",
    "    def load_data_prior(self):\n",
    "        pass\n",
    "    \n",
    "    @abstractmethod\n",
    "    def compute_input_data(self):\n",
    "        pass\n",
    "    \n",
    "    @abstractmethod\n",
    "    def run_backtest(self):\n",
    "        pass\n",
    "    \n",
    "    @abstractmethod\n",
    "    def fit_stochastic_fit(self):\n",
    "        pass\n",
    "    \n",
    "    @abstractmethod\n",
    "    def extrapolate_signals(self):\n",
    "        pass\n",
    "    \n",
    "    @abstractmethod\n",
    "    def run_extrapolation(self):\n",
    "        pass\n",
    "    \n",
    "    @abstractmethod\n",
    "    def graph_backtest_difference(self):\n",
    "        pass\n",
    "    \n",
    "\n",
    "class TestDigitalTwin(DigitalTwin):\n",
    "        \n",
    "    def load_data_initial(self):\n",
    "        self.historical_data = self.data_pipeline.pull_historical_data()\n",
    "        self.historical_data.to_csv(\"HistoricalData.csv\")\n",
    "    \n",
    "    def load_data_prior(self):\n",
    "        self.historical_data = pd.read_csv(\"HistoricalData.csv\", index_col=0)\n",
    "        \n",
    "    def compute_input_data(self):\n",
    "        self.input_data = self.data_pipeline.compute_input_data(self.historical_data)\n",
    "    \n",
    "    def run_backtest(self):\n",
    "        backtest_data = self.backtest_model.run_model(self.input_data)\n",
    "        backtest_data = self.backtest_model.post_processing(backtest_data)\n",
    "        self.backtest_data = backtest_data\n",
    "        \n",
    "    def fit_stochastic_fit(self):\n",
    "        self.stochastic_fit_params = test_stochastic_fit.fit_data(self.input_data)\n",
    "        \n",
    "    def extrapolate_signals(self):\n",
    "        self.signals = self.signal_extrapolation.extrapolate_signals(stochastic_params, self.extrapolation_epochs)\n",
    "    \n",
    "    def run_extrapolation(self):\n",
    "        extrapolation_data = self.extrapolation_model.run_model(self.signals, self.historical_data)\n",
    "        extrapolation_data = self.extrapolation_model.post_processing(extrapolation_data)\n",
    "        self.extrapolation_data = extrapolation_data\n",
    "        \n",
    "    def graph_backtest_difference(self):\n",
    "        self.reporting_module.graph_backtest_difference(self.historical_data, self.backtest_data)\n",
    "    \n",
    "        \n",
    "dt = TestDigitalTwin(\"Test1\", test_pipeline, test_backtest_model, test_stochastic_fit,\n",
    "                    test_signal_extrapolation, test_extrapolation_model, test_reporting_module)\n",
    "dt.load_data_initial()\n",
    "del(dt)\n",
    "dt = TestDigitalTwin(\"Test1\", test_pipeline, test_backtest_model, test_stochastic_fit,\n",
    "                    test_signal_extrapolation, test_extrapolation_model, test_reporting_module)\n",
    "dt.load_data_prior()\n",
    "dt.compute_input_data()\n",
    "dt.run_backtest()\n",
    "dt.fit_stochastic_fit()\n",
    "dt.extrapolate_signals()\n",
    "dt.run_extrapolation()\n",
    "dt.graph_backtest_difference()"
   ]
  }
 ],
 "metadata": {
  "kernelspec": {
   "display_name": "Python 3",
   "language": "python",
   "name": "python3"
  },
  "language_info": {
   "codemirror_mode": {
    "name": "ipython",
    "version": 3
   },
   "file_extension": ".py",
   "mimetype": "text/x-python",
   "name": "python",
   "nbconvert_exporter": "python",
   "pygments_lexer": "ipython3",
   "version": "3.8.3"
  }
 },
 "nbformat": 4,
 "nbformat_minor": 4
}
