{
 "cells": [
  {
   "cell_type": "markdown",
   "id": "554b2f3f",
   "metadata": {},
   "source": [
    "# Index Fund Arbitrage\n",
    "\n",
    "## Introduction\n",
    "\n",
    "An index fund will hold a basket of assets for some sort of general investment thesis. This allows individuals to buy and sell the index fund shares but essentially \"own\" the basket instead of needing to form the basket themselves.\n",
    "\n",
    "Every day, an index fund's NAV, Net Asset Value, is calculated and it represents the underlying value of the basket. The actual share price for the index fund shares can be at a premium (higher than the NAV) or at a discount (lower than the NAV). However, we expect an equilibrium over time where there is on average no premium or discount.\n",
    "\n",
    "This example will track the price of a basket of goods as well as an index fund and try to see what dynamics might arise in terms of potential arbitrage. We will assume there are two types of actors:\n",
    "\n",
    "1. Arbitrage Actor: This actor brings the price of the index fund in line with the basket of goods through arbitrage.\n",
    "2. Momentum Trader: This actor will bet on momentum."
   ]
  },
  {
   "cell_type": "markdown",
   "id": "1791b28e",
   "metadata": {},
   "source": [
    "## Historical Set Up\n",
    "\n",
    "Historically, we will say that the basket of goods and the index fund both gain and lose an amount which is highly correlated with one and other. There are also actions which are taken on the index fund. The steps for creating this series of hypothetical data is below:\n",
    "\n",
    "1. Basket of goods grows in percentage by $r_b = N(\\mu_1, \\sigma^2_1)$\n",
    "2. The index fund grows in percentage by $r_i = \\lambda r_b + (1-\\lambda)\\cdot N(\\mu_2, \\sigma^2_2)$\n",
    "3. The arbitrage trader brings the index fund in line with the basket of goods if $|P_b - P_i| > \\theta_1$\n",
    "4. The momentum trader will trade with the momentum if the N day return of the basket on an absolute basis is greater than "
   ]
  },
  {
   "cell_type": "code",
   "execution_count": 9,
   "id": "f3ff8c8b",
   "metadata": {},
   "outputs": [],
   "source": [
    "import sqlite3\n",
    "import pandas as pd\n",
    "con = sqlite3.connect(':memory:')\n"
   ]
  },
  {
   "cell_type": "code",
   "execution_count": 10,
   "id": "98d7ce22",
   "metadata": {},
   "outputs": [],
   "source": [
    "import numpy as np"
   ]
  },
  {
   "cell_type": "code",
   "execution_count": 11,
   "id": "2605e646",
   "metadata": {},
   "outputs": [],
   "source": [
    "np.random.seed(0)"
   ]
  },
  {
   "cell_type": "code",
   "execution_count": null,
   "id": "15863933",
   "metadata": {},
   "outputs": [],
   "source": []
  },
  {
   "cell_type": "code",
   "execution_count": null,
   "id": "2c2a9242",
   "metadata": {},
   "outputs": [],
   "source": [
    "true_prices = pd.DataFrame()"
   ]
  }
 ],
 "metadata": {
  "kernelspec": {
   "display_name": "Python 3",
   "language": "python",
   "name": "python3"
  },
  "language_info": {
   "codemirror_mode": {
    "name": "ipython",
    "version": 3
   },
   "file_extension": ".py",
   "mimetype": "text/x-python",
   "name": "python",
   "nbconvert_exporter": "python",
   "pygments_lexer": "ipython3",
   "version": "3.9.4"
  }
 },
 "nbformat": 4,
 "nbformat_minor": 5
}
